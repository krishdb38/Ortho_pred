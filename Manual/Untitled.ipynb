{
 "cells": [
  {
   "cell_type": "code",
   "execution_count": 17,
   "metadata": {},
   "outputs": [
    {
     "name": "stdout",
     "output_type": "stream",
     "text": [
      "select genomes to detect orthologs (e.g. 1 or 2 1 3 or 2 3)1 or 3\n"
     ]
    }
   ],
   "source": [
    "mode  = input(\"select genomes to detect orthologs (e.g. 1 or 2 1 3 or 2 3)\")"
   ]
  },
  {
   "cell_type": "code",
   "execution_count": 20,
   "metadata": {},
   "outputs": [
    {
     "name": "stdout",
     "output_type": "stream",
     "text": [
      "3 mode clustering is selected\n"
     ]
    }
   ],
   "source": [
    "if \"1\" in mode:\n",
    "    \"3 is for BLOSUM82\"\n",
    "    print(\"3 mode clustering is selected\")"
   ]
  },
  {
   "cell_type": "code",
   "execution_count": 21,
   "metadata": {},
   "outputs": [],
   "source": [
    "import queue"
   ]
  },
  {
   "cell_type": "code",
   "execution_count": 23,
   "metadata": {},
   "outputs": [],
   "source": [
    "a = queue.Queue()"
   ]
  },
  {
   "cell_type": "code",
   "execution_count": 5,
   "metadata": {},
   "outputs": [
    {
     "name": "stderr",
     "output_type": "stream",
     "text": [
      "BLAST query/options error: BLOSUM82 is not a supported matrix, supported matrices are:\n",
      "BLOSUM80 \n",
      "BLOSUM62 \n",
      "BLOSUM50 \n",
      "BLOSUM45 \n",
      "PAM250 \n",
      "BLOSUM90 \n",
      "PAM30 \n",
      "PAM70 \n",
      "IDENTITY \n",
      "\n",
      "Please refer to the BLAST+ user manual.\n"
     ]
    }
   ],
   "source": [
    "!blastp -query \"./species/AAE\" -subject \"./species/HIN\" -matrix \"BLOSUM82\""
   ]
  },
  {
   "cell_type": "code",
   "execution_count": 17,
   "metadata": {},
   "outputs": [],
   "source": [
    "def matrix_name():\n",
    "    \"\"\"This Function will Return the Matrix name choosed by User.\n",
    "    BLOSUM45 ,  BLOSUM62 , BLOSUM80 \"\"\"\n",
    "    print(\"BLOcks SUbstitution Matrix (BLOSUM) is a Substitution matrix used for sequence alignment of Proteins\")\n",
    "    print(\"\"\"\n",
    "    1. BLOSUM45 :-For more distantly related Proteins alignment DataBase\n",
    "    2. BLOSUM62 :- MidRange Seq with more than 62%similarity\n",
    "    3. BLOSUM80 :- More related Proteins\\n\n",
    "    Other Keys will exit the Program\n",
    "    \"\"\")\n",
    "    metrix_num = int(input(\"\\nEnter a matrix number: \"))\n",
    "    print(type(metrix_num))\n",
    "    if metrix_num not in (1,2,3):\n",
    "        print(\"Wrong input *%s*Sorry not in list\\n\" %\n",
    "              metrix_num, \"*\"*20, \"Good Bye\", \"*\"*20, \"\\n\")\n",
    "        sys.exit(1)\n",
    "    if metrix_num == 1:\n",
    "        return \"BLOSUM45\"\n",
    "    if metrix_num == \"2\":\n",
    "        return \"BLOSUM62\"\n",
    "    if metrix_num == \"3\":\n",
    "        return \"BLOSUM80\""
   ]
  },
  {
   "cell_type": "code",
   "execution_count": null,
   "metadata": {},
   "outputs": [],
   "source": [
    "process_lsit= []\n",
    "backward_best_hit_work_list = []\n",
    "mode = \"1\"\n",
    "user_se"
   ]
  },
  {
   "cell_type": "code",
   "execution_count": null,
   "metadata": {},
   "outputs": [],
   "source": []
  }
 ],
 "metadata": {
  "hide_input": false,
  "kernelspec": {
   "display_name": "Python 3",
   "language": "python",
   "name": "python3"
  },
  "language_info": {
   "codemirror_mode": {
    "name": "ipython",
    "version": 3
   },
   "file_extension": ".py",
   "mimetype": "text/x-python",
   "name": "python",
   "nbconvert_exporter": "python",
   "pygments_lexer": "ipython3",
   "version": "3.7.6"
  },
  "nbTranslate": {
   "displayLangs": [
    "*"
   ],
   "hotkey": "alt-t",
   "langInMainMenu": true,
   "sourceLang": "en",
   "targetLang": "fr",
   "useGoogleTranslate": true
  },
  "toc": {
   "base_numbering": 1,
   "nav_menu": {},
   "number_sections": true,
   "sideBar": true,
   "skip_h1_title": false,
   "title_cell": "Table of Contents",
   "title_sidebar": "Contents",
   "toc_cell": false,
   "toc_position": {},
   "toc_section_display": true,
   "toc_window_display": false
  },
  "varInspector": {
   "cols": {
    "lenName": 16,
    "lenType": 16,
    "lenVar": 40
   },
   "kernels_config": {
    "python": {
     "delete_cmd_postfix": "",
     "delete_cmd_prefix": "del ",
     "library": "var_list.py",
     "varRefreshCmd": "print(var_dic_list())"
    },
    "r": {
     "delete_cmd_postfix": ") ",
     "delete_cmd_prefix": "rm(",
     "library": "var_list.r",
     "varRefreshCmd": "cat(var_dic_list()) "
    }
   },
   "types_to_exclude": [
    "module",
    "function",
    "builtin_function_or_method",
    "instance",
    "_Feature"
   ],
   "window_display": false
  }
 },
 "nbformat": 4,
 "nbformat_minor": 4
}
