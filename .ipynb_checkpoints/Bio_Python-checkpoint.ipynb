{
 "cells": [
  {
   "cell_type": "code",
   "execution_count": 3,
   "metadata": {},
   "outputs": [],
   "source": [
    "#!pip install Biopython"
   ]
  },
  {
   "cell_type": "code",
   "execution_count": 4,
   "metadata": {},
   "outputs": [],
   "source": [
    "from Bio.Seq import Seq\n",
    "my_seq = Seq(\"ACGTCCCGT\")"
   ]
  },
  {
   "cell_type": "code",
   "execution_count": 7,
   "metadata": {},
   "outputs": [
    {
     "data": {
      "text/plain": [
       "Seq('ACGTCCCGT')"
      ]
     },
     "execution_count": 7,
     "metadata": {},
     "output_type": "execute_result"
    }
   ],
   "source": [
    "my_seq"
   ]
  },
  {
   "cell_type": "code",
   "execution_count": 8,
   "metadata": {},
   "outputs": [
    {
     "name": "stdout",
     "output_type": "stream",
     "text": [
      "ACGTCCCGT\n"
     ]
    }
   ],
   "source": [
    "print(my_seq)"
   ]
  },
  {
   "cell_type": "code",
   "execution_count": 9,
   "metadata": {},
   "outputs": [
    {
     "data": {
      "text/plain": [
       "Seq('TGCAGGGCA')"
      ]
     },
     "execution_count": 9,
     "metadata": {},
     "output_type": "execute_result"
    }
   ],
   "source": [
    "my_seq.complement()"
   ]
  },
  {
   "cell_type": "code",
   "execution_count": 11,
   "metadata": {},
   "outputs": [
    {
     "data": {
      "text/plain": [
       "Seq('ACGGGACGT')"
      ]
     },
     "execution_count": 11,
     "metadata": {},
     "output_type": "execute_result"
    }
   ],
   "source": [
    "my_seq.reverse_complement()"
   ]
  },
  {
   "cell_type": "code",
   "execution_count": 13,
   "metadata": {},
   "outputs": [
    {
     "data": {
      "text/plain": [
       "Alphabet()"
      ]
     },
     "execution_count": 13,
     "metadata": {},
     "output_type": "execute_result"
    }
   ],
   "source": [
    "my_seq.alphabet"
   ]
  },
  {
   "cell_type": "markdown",
   "metadata": {},
   "source": [
    "### Simple FASTA  parsing example"
   ]
  },
  {
   "cell_type": "code",
   "execution_count": 39,
   "metadata": {
    "scrolled": true
   },
   "outputs": [
    {
     "name": "stdout",
     "output_type": "stream",
     "text": [
      "gi|15605613|ref|NP_212986.1|\n",
      "MAREVPIEKLRNIGIVAHIDAGKTTTTERILYYTGKTYKIGEVHEGAATMDWMPQEKERGITITVATTACYWTRNGERYQINIIDTPGHVDFSVEVVRSMKVLDGIVFIFSAVEGVQPQSEANWRWADRFQVPRIAFINKMDRLGADFYRVFKEIEEKLTIKPVAIQIPLGAEDQFEGVIDLMEMKAIRWLEETLGAKYEVVDIPPEYQEKAQEWREKMIETIVETDDELMEKYLEGQEISIDELRKALRKATIERKLVPVLCGSAFKNKGVQPLLDAVIDYLPSPIDLPPVKGTNPKTGEEEVRHPSDDEPFCAYAFKVMSDPYAGQLTYIRVFSGTLKAGSYVYNATKDEKQRAGRLLLMHANSREEIQQVSAGEICAVVGLDAATGDTLCDEKHPIILEKLEFPDPVISMAIEPKTKKDQEKLSQVLNKFMKEDPTFRATTDPETGQILIHGMGELHLEIMVDRMKREYGIEVNVGKPQVAYKETIRKKAIGEGKFIKQTGGRGQYGHAIIEIEPLPRGAGFEFIDDIHGGVIPKEFIPSVEKGVKEAMQNGILAGYPVVDVRVRLFDGSYHEVDSSDIAFQVAGSLAFKDAAKKADPVLLEPIMEVEVETPEKYVGDVIGDLNSRRGKIMGMENKGVITVIKAHVPLAEMFGYATTLRSLTQGRGTFIMKFSHYDEVPQQIAEKIIGERMAGKSS\n",
      "\n",
      "\n",
      "gi|15605614|ref|NP_212987.1|\n",
      "MAKEKFERTKEHVNVGTIGHVDHGKSTLTSAITCVLAAGLVEGGKAKCFKYEEIDKAPEEKERGITINITHVEYETAKRHYAHVDCPGHADYIKNMITGAAQMDGAILVVSAADGPMPQTREHVLLARQVNVPYIVVFMNKCDMVDDEELLELVELEVRELLSKYEYPGDEVPVIRGSALGALQELEQNSPGKWVESIKELLNAMDEYIPTPQREVDKPFLMPIEDVFSISGRGTVVTGRVERGVLRPGDEVEIVGLREEPLKTVATSIEMFRKVLDEALPGDNIGVLLRGVGKDDVERGQVLAQPGSVKAHKRFRAQVYVLSKEEGGRHTPFFVNYRPQFYFRTADVTGTVVKLPEGVEMVMPGDNVELEVELIAPVALEEGLRFAIREGGRTVGAGVVTKILD\n",
      "\n",
      "\n",
      "gi|15605615|ref|NP_212988.1|\n",
      "MEQEKIRIKLRAYDHRLLDQSVKQIIETVKRTGGVVKGPIPLPTRKRKWCVLRSPHKFDQSREHFEIREFSRILDIIRFTPQTIEALMEISLPAGVDVEVKMRG\n",
      "\n",
      "\n",
      "gi|15605616|ref|NP_212989.1|\n",
      "MPLGLIGEKVGMTRVLLKDGTAIPVTVIKFPVNYVVQVKSQNTKDGYNALQIGAYEAKEKHLTKPLIGHFKKHGVPLLRRLWEFRVDNPEEFQSGQQLKVEDVFKPGDLVDVWGISKGRGFAGAMKRWDFAGFPKSHGHRYHRAVGAIGQRTDPGRVWKGKRMPGHYGAKPVRVQGLFVVDVLPEENAILVKGSVPGHNKGIVVVEQSTIAYRKSQKLKQKRYQFIIENLAKEESQEVAES\n",
      "\n",
      "\n",
      "gi|15605617|ref|NP_212990.1|\n",
      "MKIGDVEVRDDVFNVKVKKHVLWEVVKWQLAKRRQGTHSTKTRGEVAYSGRKILPQKGTGNARHGERGVNIFVGGGVAHGPKPRDYEYPLPKRVRKLGLKMALSDKARNNAIIFVDNIDLGKKPKTKKAIEFLKNLGVEKEKVLVVIPEKADVLYKSFRNLPNVRVLLPEGLNVYDVLWANKLVIQKDCLDRIYKKVEA\n",
      "\n",
      "\n",
      "5\n"
     ]
    }
   ],
   "source": [
    "from Bio import SeqIO\n",
    "i = 0\n",
    "for seq_record in SeqIO.parse(\"species/AAE\",\"fasta\"):\n",
    "    #print(seq_record.id.split(\"|\")[1])\n",
    "    print(seq_record.id)\n",
    "    \n",
    "    #print(repr(seq_record.seq))\n",
    "    print(seq_record.seq)\n",
    "    print(\"\\n\")\n",
    "    #print(len(seq_record))\n",
    "    i +=1\n",
    "    if i ==5 :\n",
    "        break\n",
    "print(i)"
   ]
  },
  {
   "cell_type": "markdown",
   "metadata": {},
   "source": [
    "## Simple GenBank parsing example"
   ]
  },
  {
   "cell_type": "code",
   "execution_count": null,
   "metadata": {},
   "outputs": [],
   "source": []
  },
  {
   "cell_type": "markdown",
   "metadata": {},
   "source": [
    "## 2. Connecting with biological databases"
   ]
  },
  {
   "cell_type": "code",
   "execution_count": null,
   "metadata": {},
   "outputs": [],
   "source": [
    "# Chapter 9 Entrez and PubMed\n",
    "# Chapter 10 ExPASy\n"
   ]
  },
  {
   "cell_type": "markdown",
   "metadata": {},
   "source": [
    "## Chapter 3 Sequence Object"
   ]
  },
  {
   "cell_type": "code",
   "execution_count": 48,
   "metadata": {},
   "outputs": [],
   "source": [
    "from Bio import SeqIO\n",
    "i = 0\n",
    "#for seq_record in SeqIO.parse(\"species/AAE\",\"fasta\"):\n",
    "    #print(seq_record.seq.count(\"G\"))\n",
    "\n",
    "#The above Code will count certain character on the seq"
   ]
  },
  {
   "cell_type": "markdown",
   "metadata": {},
   "source": [
    "#### The GC Count is Very Important in Sequencing"
   ]
  },
  {
   "cell_type": "code",
   "execution_count": 50,
   "metadata": {},
   "outputs": [
    {
     "data": {
      "text/plain": [
       "46.875"
      ]
     },
     "execution_count": 50,
     "metadata": {},
     "output_type": "execute_result"
    }
   ],
   "source": [
    "from Bio.Seq import Seq\n",
    "from Bio.Alphabet import IUPAC\n",
    "my_seq = Seq(\"GATCGATGGGCCTATATAGGATCGAAAATCGC\", IUPAC.unambiguous_dna)\n",
    "100 *float(my_seq.count(\"G\")+my_seq.count(\"C\"))/ len(my_seq)"
   ]
  },
  {
   "cell_type": "markdown",
   "metadata": {},
   "source": [
    "#### Bio.SeqUtils module has several GC functions already built"
   ]
  },
  {
   "cell_type": "code",
   "execution_count": 51,
   "metadata": {},
   "outputs": [
    {
     "ename": "NameError",
     "evalue": "name 'GC' is not defined",
     "output_type": "error",
     "traceback": [
      "\u001b[1;31m---------------------------------------------------------------------------\u001b[0m",
      "\u001b[1;31mNameError\u001b[0m                                 Traceback (most recent call last)",
      "\u001b[1;32m<ipython-input-51-73ed68b03d8c>\u001b[0m in \u001b[0;36m<module>\u001b[1;34m\u001b[0m\n\u001b[1;32m----> 1\u001b[1;33m \u001b[0mGC\u001b[0m\u001b[1;33m(\u001b[0m\u001b[0mmy_seq\u001b[0m\u001b[1;33m)\u001b[0m\u001b[1;33m\u001b[0m\u001b[1;33m\u001b[0m\u001b[0m\n\u001b[0m",
      "\u001b[1;31mNameError\u001b[0m: name 'GC' is not defined"
     ]
    }
   ],
   "source": [
    "from Bio.Se\n",
    "GC(my_seq)"
   ]
  }
 ],
 "metadata": {
  "kernelspec": {
   "display_name": "Python 3",
   "language": "python",
   "name": "python3"
  },
  "language_info": {
   "codemirror_mode": {
    "name": "ipython",
    "version": 3
   },
   "file_extension": ".py",
   "mimetype": "text/x-python",
   "name": "python",
   "nbconvert_exporter": "python",
   "pygments_lexer": "ipython3",
   "version": "3.7.4"
  }
 },
 "nbformat": 4,
 "nbformat_minor": 2
}
