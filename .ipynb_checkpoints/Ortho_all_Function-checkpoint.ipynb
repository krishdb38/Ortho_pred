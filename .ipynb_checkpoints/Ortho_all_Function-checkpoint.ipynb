{
 "cells": [
  {
   "cell_type": "markdown",
   "metadata": {},
   "source": [
    "## Ortho Prediction Software Developing by krish:\n",
    "#### Check all Function Working better or Not"
   ]
  },
  {
   "cell_type": "markdown",
   "metadata": {},
   "source": [
    "#### main / Global Variable use in this program"
   ]
  },
  {
   "cell_type": "code",
   "execution_count": 1,
   "metadata": {},
   "outputs": [],
   "source": [
    "import time , os, sys,subprocess , numpy as np , pandas as pd"
   ]
  },
  {
   "cell_type": "code",
   "execution_count": 2,
   "metadata": {},
   "outputs": [],
   "source": [
    "#Blastp = /usr/bin/blastp\n",
    "Blastp = \"blastp\"\n",
    "Blastp_data =  './blastp_data/'\n",
    "cpu_count = 1 # Default value\n",
    "blastp_matrix = \"BLOSUM62\" \n",
    "genome = \"\"\n",
    "infinite_loop = 70\n",
    "inflation_factor = 1.4\n",
    "#mode = None\n",
    "mode = None\n",
    "Cluster_out = \"./cluster_out/\"\n",
    "#threshold_score : 0\n",
    "threshold_score =0\n",
    "Save_raw_blastp_score = False\n",
    "Score_file = \"./score_file\"\n",
    "Species = \"./species/\"\n",
    "species = \"./species/\"\n",
    "verbose = False"
   ]
  },
  {
   "cell_type": "code",
   "execution_count": 3,
   "metadata": {},
   "outputs": [
    {
     "data": {
      "text/plain": [
       "'CAC'"
      ]
     },
     "execution_count": 3,
     "metadata": {},
     "output_type": "execute_result"
    }
   ],
   "source": [
    "import glob\n",
    "a = glob.glob(\"species/\"\"*\")\n",
    "a[1].split(\"\\\\\")[1]"
   ]
  },
  {
   "cell_type": "markdown",
   "metadata": {},
   "source": [
    "## 1. GetMatrixNumber()"
   ]
  },
  {
   "cell_type": "code",
   "execution_count": 4,
   "metadata": {},
   "outputs": [],
   "source": [
    "#The Following matrix files must be in Folder\n",
    "import os\n",
    "def GetMatrixNumber():\n",
    "    \"This Function will Return the Matrix name choosed by User\"\n",
    "    import sys\n",
    "    print (\"\\n1. BLOSUM45\\n2. BLOSUM62\\n3. BLOSUM82\\n4. Quit\")\n",
    "\n",
    "    metrix_num = input(\"\\nEnter a matrix number: \")\n",
    "    if metrix_num not in (\"1\",\"2\",'3'):\n",
    "        print(\"Wrong input *%s*Sorry not in list\\n\"%metrix_num,\"*\"*20,\"Good Bye\",\"*\"*20,\"\\n\")\n",
    "        sys.exit(1)\n",
    "    if metrix_num ==\"1\":\n",
    "        return \"BLOSUM45\"\n",
    "    if metrix_num == \"2\":\n",
    "        return \"BLOSUM62\"\n",
    "    if metrix_num == \"3\":\n",
    "        return \"BLOSUM82\"\n",
    "#GetMatrixNumber()"
   ]
  },
  {
   "cell_type": "markdown",
   "metadata": {},
   "source": [
    "### 2. GetQuerySequence(genome)"
   ]
  },
  {
   "cell_type": "code",
   "execution_count": 5,
   "metadata": {},
   "outputs": [],
   "source": [
    "\n",
    "def GetQuerySequence(genome):\n",
    "    \"\"\"This Function Read Fastaq Files and return as a list Format with gene Position as a index\n",
    "    Later I will reduce code Lengths and Speed\"\"\"\n",
    "    global species\n",
    "    gene_sequence=\"\"\n",
    "    gene_sequence_list= []\n",
    "    try:\n",
    "        with open(species+genome) as gene:\n",
    "            for each_line in gene:\n",
    "                if \">\" in each_line:\n",
    "                    if gene_sequence != \"\":                        \n",
    "                        gene_sequence_list.append(gene_sequence)\n",
    "                        gene_sequence = \"\"\n",
    "                gene_sequence = gene_sequence+each_line\n",
    "            gene_sequence_list.append(gene_sequence)                   \n",
    "        return gene_sequence_list                                                                \n",
    "    except IOError as err:\n",
    "        print (\"IOError occurred in GetQuerySequence function : \" + str(err))"
   ]
  },
  {
   "cell_type": "code",
   "execution_count": 6,
   "metadata": {},
   "outputs": [],
   "source": [
    "b = GetQuerySequence(\"AAE\")\n",
    "#species"
   ]
  },
  {
   "cell_type": "code",
   "execution_count": 7,
   "metadata": {},
   "outputs": [
    {
     "data": {
      "text/plain": [
       "'>gi|15605623|ref|NP_212996.1| 50S ribosomal protein L16 [Aquifex aeolicus VF5]\\nMYLQPKKVRWRKQRRGTLKGKAFRGNKLAFGEYGIQALDRAWITQQQIEAVRVALVRSLKKGAKVWIRIF\\nPDKPYTKKPNEVRMGGGKGDPEGFVAVVKPGRILFEFTGVPEEVAQEAFTIAASKLPIPVRLVKYGEFTF\\nKY\\n'"
      ]
     },
     "execution_count": 7,
     "metadata": {},
     "output_type": "execute_result"
    }
   ],
   "source": [
    "b[10]"
   ]
  },
  {
   "cell_type": "markdown",
   "metadata": {},
   "source": [
    "## 3.Write Query(query, parallel_num)"
   ]
  },
  {
   "cell_type": "code",
   "execution_count": 8,
   "metadata": {},
   "outputs": [],
   "source": [
    "def WriteQuery(query, parallel_num):\n",
    "    # query is j , part of Genome , gene id , a single sequence\n",
    "    try:\n",
    "        with open(\"./query\"+\"_\"+str(parallel_num)+\".csv\", \"w\") as write_query:\n",
    "            write_query.write(query)\n",
    "    except IOError as err:\n",
    "        print (\"IOError occurred in WriteQuery function : \" + str(err))"
   ]
  },
  {
   "cell_type": "code",
   "execution_count": 9,
   "metadata": {},
   "outputs": [],
   "source": [
    "WriteQuery(\"hello\",5)\n",
    "#hello is is query name and "
   ]
  },
  {
   "cell_type": "markdown",
   "metadata": {},
   "source": [
    "## 4. RunBlast( Subject , parallel_num)"
   ]
  },
  {
   "cell_type": "code",
   "execution_count": 10,
   "metadata": {},
   "outputs": [],
   "source": [
    "import subprocess\n",
    "def RunBlast(subject, parallel_num):\n",
    "    \"\"\"By this Function it will create a Pipe line to run Blastp in Computer by input Parameter\n",
    "     subject is a small size gene passed not a whole\n",
    "     parallel_nu is the CPU selected by user\"\"\"\n",
    "    subject = Species+subject \n",
    "    Blastp = \"blastp\"\n",
    "    cmd = [Blastp, \"-query\",\"./query\"+\"_\"+str(parallel_num), \"-subject\", subject,\"-matrix\", blastp_matrix,\n",
    "           \"-outfmt\", \"10 qseqid sseqid score length\"]\n",
    "    \n",
    "    run_blastp =subprocess.Popen(cmd,stdout=subprocess.PIPE, stderr=subprocess.PIPE)\n",
    "    #qseqid = query (e.g. gene sequence id) , sseqid = subject(e.g. reference genome)\n",
    "    #sequence id score = Rawscore length = Alignment length\n",
    "    \n",
    "    run_blastp_stream = run_blastp.communicate()\n",
    "    run_blastp_output_stream = run_blastp_stream[0]\n",
    "    run_blastp_error_stream = run_blastp_stream[1]  \n",
    "    \n",
    "    #display(run_blastp)\n",
    "    #display(run_blastp_error_stream)\n",
    "    return run_blastp_output_stream\n",
    "#RunBlast(\"AAE\",\"AAE\")"
   ]
  },
  {
   "cell_type": "code",
   "execution_count": 11,
   "metadata": {},
   "outputs": [
    {
     "data": {
      "text/plain": [
       "b'NP_001267053.1,gi|15607130|ref|NP_214512.1|,174,519\\r\\nNP_001267053.1,gi|15606768|ref|NP_214148.1|,59,33\\r\\nNP_001267053.1,gi|15606987|ref|NP_214369.1|,55,57\\r\\nNP_001267053.1,gi|15605766|ref|NP_213143.1|,55,39\\r\\nNP_001267053.1,gi|15606556|ref|NP_213936.1|,52,26\\r\\nNP_001267053.1,gi|15605625|ref|NP_212999.1|,51,44\\r\\nNP_001267053.1,gi|15606023|ref|NP_213400.1|,52,61\\r\\nNP_001267053.1,gi|15606308|ref|NP_213687.1|,52,33\\r\\n'"
      ]
     },
     "execution_count": 11,
     "metadata": {},
     "output_type": "execute_result"
    }
   ],
   "source": [
    "RunBlast(\"AAE\",2)"
   ]
  },
  {
   "cell_type": "markdown",
   "metadata": {},
   "source": [
    "## Get_Same_Species_Forward_Best_Hit(blastp_score):"
   ]
  },
  {
   "cell_type": "code",
   "execution_count": 38,
   "metadata": {},
   "outputs": [],
   "source": [
    "def Get_Same_Species_Forward_Best_Hit(blastp_score):\n",
    "    blastp_score_split_list  = []\n",
    "    temp_best_score = [\"-1\",'-1','-1']\n",
    "    second_temp_best_score = []\n",
    "    best_score = []\n",
    "    second_best_score = []\n",
    "    blastp_score_split = blastp_score.split('\\n')\n",
    "    \n",
    "    del blastp_score_split[-1] #delete of [''] in last index \n",
    "    for i in blastp_score_split:\n",
    "        blastp_score_element = i.split(\",\")\n",
    "        blastp_score_split_list.append(blastp_score_element)\n",
    "    for k in blastp_score_split_list: #ex) k in ['gi|15605613|ref|NP_212986.1|', 'gi|15605613|ref|NP_212986.1|', '3702', '699']\n",
    "        if k[0] == k[1]:\n",
    "            best_score.append(k)\n",
    "        elif k[0] !=k[1]:\n",
    "            print(k[2], temp_best_score[2])\n",
    "            if int(k[2]) >int(temp_best_score[2]): #Compare the Score , Greater than\n",
    "                temp_best_score = k\n",
    "            elif int(k[2]) == int(temp_best_score[2]): # Is equal\n",
    "                if int(k[3])> int(temp_best_score[3]) : #Compare the length\n",
    "                    temp_best_score = k\n",
    "                elif int(k[3]) == int(temp_best_score[3]):\n",
    "                    second_temp_best_score.append(k)\n",
    "        #print( \"################ temp Best Score #####################\", temp_best_score)\n",
    "        second_best_score.append(temp_best_score)\n",
    "        for j in second_temp_best_score:\n",
    "            if j[2] == temp_best_score[2] and j[3] == temp_best_score[3]:\n",
    "                second_best_score.append(j)\n",
    "        for m in second_best_score:\n",
    "            if (best_score[0][2] == m[2] and int(best_score[0][3])<= int(m[3])) or int(best_score[0][2])< int(m[2]): \n",
    "                #'104'<\"23\" is True because of string. So the int Function is Used.\n",
    "                best_score.append(m)\n",
    "    return best_score\n",
    "                        "
   ]
  },
  {
   "cell_type": "code",
   "execution_count": 12,
   "metadata": {},
   "outputs": [
    {
     "ename": "NameError",
     "evalue": "name 'Get_Same_Species_Forward_Best_Hit' is not defined",
     "output_type": "error",
     "traceback": [
      "\u001b[1;31m---------------------------------------------------------------------------\u001b[0m",
      "\u001b[1;31mNameError\u001b[0m                                 Traceback (most recent call last)",
      "\u001b[1;32m<ipython-input-12-f05bc680808f>\u001b[0m in \u001b[0;36m<module>\u001b[1;34m\u001b[0m\n\u001b[1;32m----> 1\u001b[1;33m \u001b[0mGet_Same_Species_Forward_Best_Hit\u001b[0m\u001b[1;33m(\u001b[0m\u001b[0mblastp_score\u001b[0m\u001b[1;33m.\u001b[0m\u001b[0mdecode\u001b[0m\u001b[1;33m(\u001b[0m\u001b[1;33m)\u001b[0m\u001b[1;33m)\u001b[0m\u001b[1;33m\u001b[0m\u001b[1;33m\u001b[0m\u001b[0m\n\u001b[0m",
      "\u001b[1;31mNameError\u001b[0m: name 'Get_Same_Species_Forward_Best_Hit' is not defined"
     ]
    }
   ],
   "source": [
    "Get_Same_Species_Forward_Best_Hit(blastp_score.decode())"
   ]
  },
  {
   "cell_type": "code",
   "execution_count": 14,
   "metadata": {},
   "outputs": [
    {
     "ename": "NameError",
     "evalue": "name 'blastp_score' is not defined",
     "output_type": "error",
     "traceback": [
      "\u001b[1;31m---------------------------------------------------------------------------\u001b[0m",
      "\u001b[1;31mNameError\u001b[0m                                 Traceback (most recent call last)",
      "\u001b[1;32m<ipython-input-14-d134f490b044>\u001b[0m in \u001b[0;36m<module>\u001b[1;34m\u001b[0m\n\u001b[1;32m----> 1\u001b[1;33m \u001b[0mblastp_score\u001b[0m\u001b[1;33m.\u001b[0m\u001b[0mdecode\u001b[0m\u001b[1;33m(\u001b[0m\u001b[1;33m)\u001b[0m\u001b[1;33m\u001b[0m\u001b[1;33m\u001b[0m\u001b[0m\n\u001b[0m",
      "\u001b[1;31mNameError\u001b[0m: name 'blastp_score' is not defined"
     ]
    }
   ],
   "source": [
    "blastp_score.decode()"
   ]
  },
  {
   "cell_type": "markdown",
   "metadata": {},
   "source": [
    "## 21. Read_Species_List()"
   ]
  },
  {
   "cell_type": "code",
   "execution_count": 39,
   "metadata": {},
   "outputs": [],
   "source": [
    "import glob\n",
    "def Read_Species_List(pr=0):\n",
    "    \"\"\" If pr is 1, it will print \"Species_List\". \"\"\" \n",
    "    global species\n",
    "    read_species =glob.glob(species+\"*\")   \n",
    "    selected_species_dic = {}\n",
    "    backward_selected_species_dic = {}\n",
    "    #number = 0\n",
    "    for i, spec in enumerate(sorted(read_species), start=1):\n",
    "        #variable name spec is required because local Variable and global Variable can cause Conflict\n",
    "        selected_species_dic[i] = spec.split('\\\\')[-1]\n",
    "        backward_selected_species_dic[spec.split('\\\\')[-1]] = i \n",
    "        if pr == 1 :\n",
    "            print (str(i)+\".\", spec.split('\\\\')[-1])\n",
    "        number = i\n",
    "    return selected_species_dic, backward_selected_species_dic, number"
   ]
  },
  {
   "cell_type": "code",
   "execution_count": 14,
   "metadata": {},
   "outputs": [],
   "source": [
    "def read_species(pr =1):\n",
    "    import os\n",
    "    read_species = os.listdir(\"species/\")\n",
    "    for i,species in enumerate(read_species,start =1):\n",
    "        print(i,species)\n",
    "#read_species()"
   ]
  },
  {
   "cell_type": "markdown",
   "metadata": {},
   "source": [
    "## 22. Del_File(path,file)"
   ]
  },
  {
   "cell_type": "code",
   "execution_count": 15,
   "metadata": {},
   "outputs": [],
   "source": [
    "def Del_File(path,file):\n",
    "    import subprocess\n",
    "    \n",
    "    del_file = subprocess.Popen([\"del \"+path+file],stdout=subprocess.PIPE, stderr = subprocess.PIPE,shell= True)\n",
    "    del_file_stream = del_file.communicate()\n",
    "    if not del_file_stream[1]:\n",
    "        print(\"Done to del\"+path+file)\n",
    "    elif del_file_stream[1]:\n",
    "        print(del_file_stream[1])"
   ]
  },
  {
   "cell_type": "markdown",
   "metadata": {},
   "source": [
    "#### i developed the below Function to remove the file may be different but will check later "
   ]
  },
  {
   "cell_type": "code",
   "execution_count": 16,
   "metadata": {},
   "outputs": [],
   "source": [
    "def del_(file):\n",
    "    import os\n",
    "    try:\n",
    "        os.remove(file)\n",
    "        print(\"Successfully_remove\",file)\n",
    "    except:\n",
    "        print(\"Check the File And Path\")"
   ]
  },
  {
   "cell_type": "code",
   "execution_count": 22,
   "metadata": {},
   "outputs": [
    {
     "name": "stdout",
     "output_type": "stream",
     "text": [
      "Check the File And Path\n"
     ]
    }
   ],
   "source": [
    "del_(\"krish\")"
   ]
  },
  {
   "cell_type": "markdown",
   "metadata": {},
   "source": [
    "### 23.Check_File(file)"
   ]
  },
  {
   "cell_type": "code",
   "execution_count": 17,
   "metadata": {},
   "outputs": [],
   "source": [
    "def Check_File(file):\n",
    "    \"Check the file weather exist or not\"\n",
    "    file_list = glob.glob(file+'*')    \n",
    "    if (Cluster_out+\"_geneID_S\"+str(threshold_score)+\"_\"+str(inflation_factor) or Cluster_out+\"_KO_ID_S\"+str(threshold_score)+\"_\"+str(inflation_factor)) in file_list:\n",
    "        print (\"Please, set other name of output.\")\n",
    "        sys.exit(2)"
   ]
  },
  {
   "cell_type": "markdown",
   "metadata": {},
   "source": [
    "### Oneway_Threshold_Best_Hit(mode)\n",
    "modes are 1. Blastp 2. BLASTP using precalculated data 3. Clustering "
   ]
  },
  {
   "cell_type": "code",
   "execution_count": 40,
   "metadata": {},
   "outputs": [],
   "source": [
    "def Oneway_Threshold_Best_Hit(mode):\n",
    "    \"This Function accept the mode and Run Program and return backward_best_hit_work_list\"\n",
    "    print(\"Oneway_Threshold_Best_Hit Is running\")\n",
    "    process_list = []\n",
    "    backward_best_hit_work_list = [] # Container to sava backward bect hit work\n",
    "    if \"1\" in mode:\n",
    "        print(\"Blastp Mode is Selected\")\n",
    "        for i in user_selected_number: # user_selected_number is the list of Species 1,2 ..\n",
    "            queryV =  GetQuerySequence(selected_species_dic[i]) #select the user select number \n",
    "            #queryV is the list type \n",
    "            for k in user_selected_number:\n",
    "                if k <i:\n",
    "                    print(k)\n",
    "                    continue\n",
    "                else:\n",
    "                    print(\"Doing the blastp & Forward best hit searches between %s genome and %s genome\"%\\\n",
    "                          (selected_species_dic[i],selected_species_dic[k]))\n",
    "                    queryV_len = len(queryV) #Repeating Time\n",
    "                    \n",
    "                    if cpu_count ==1:\n",
    "                        blastp_time_start = time.time() #start Time\n",
    "                        print(i,k, cpu_count) # 2 2 1 \n",
    "                        RunParallelQuery(i , k , queryV , cpu_count)\n",
    "                        blastp_time_end = time.time()\n",
    "                        print(\"The Blastp & Forward best hit searches took %.2f minutes\"%((blastp_time_end- blastp_time_start)/60))\n",
    "                    else:\n",
    "                        if queryV_len < cpu_count : \n",
    "                            # If the number of queryV_len is less than cpu_count, Remark will select the number of queryV_len\n",
    "                            blastp_time_start = time.time()\n",
    "                            parallel_query = DivisionParallelQuery(queryV, 1, queryV_len, queryV_len)\n",
    "                            #1 is query_division_value. Because queryV_len / queryV_len( = cpu_count) is 1\n",
    "                            for m in range(queryV_len):\n",
    "                                process = multiprocessing.Process(target = RunParallelQuery, args = (i,k, parallel_query[m],m+1))\n",
    "                                #args(i => species of query, k = > species of subject , m+1 = > cpu_count ex) 1,2 ...)\n",
    "                                process_list.append(process)\n",
    "                                process.start()\n",
    "                            for n in process_list:\n",
    "                                n.join()\n",
    "                            blastp_time_end = time.time()\n",
    "                            print(\"The blastp & forward best hit searches took %.2f minutes\"%((blastp_time_end - blastp_time_start)/60))\n",
    "                        else:\n",
    "                            blastp_time_start = time.time()\n",
    "                            query_division_value = queryV_len / cpu_count\n",
    "                            parallel_query = DivisionParallelQuery(queryV, query_division_value , cpu_count, queryV_len)\n",
    "                            \n",
    "                            for m in range(cpu_count):\n",
    "                                process = multiprocessing.Process(target=RunParallelQuery, args= (i,k,parallel_query[m],m+1))\n",
    "                                #args(i =>species of query , k = > species of subject , m+1 => cpu_count ex)1,2 ...\n",
    "                                process_list.append(process)\n",
    "                                process.start()\n",
    "                            for n in process_list:\n",
    "                                n.join()\n",
    "                            blastp_time_end = time.time()\n",
    "                            print(\"The blastp & forward best hit searches took %.2f minutes\"%((blastp_time_end - blastp_time_start)/60))\n",
    "                            \n",
    "                    if not i == k:\n",
    "                        backward_best_hit_work_list.append((i,k,queryV_len))\n",
    "    elif \"2\" in mode:\n",
    "        print(\"BLASTP using precalculated data mode Running\")\n",
    "        for i in user_selected_number: #Select species to write query\n",
    "            queryV = GetQuerySequence(selected_species_dic[i])\n",
    "            for k in user_selected_number: #Select of subject\n",
    "                if Blastp_data + selected_species_dic[i]+\"_\"+selected_species_dic[k] + \"_oneway_threshold_best_hit_S\"+\\\n",
    "                str(threshold_score) in precalculated_data_list:\n",
    "                    used_precalculated_data_list.append(selected_species_dic[i]+\"_\"+selected_species_dic[k])\n",
    "                    continue\n",
    "                else:\n",
    "                    if k<i: # gene ===> query 1 -> 1 , 1 ->2  , 1 ->3 ,2 ->2 , 2->3\n",
    "                        continue\n",
    "                    else:\n",
    "                        print(\"Doing the blastp & Forward best hit searches between %s genome and %s genome\"%(selected_species_dic[i],selected_species_dic[k]))\n",
    "                        queryV_len = len(queryV)\n",
    "                                    \n",
    "                        if cpu_count ==1:\n",
    "                            blastp_time_start = time.time()\n",
    "                            RunParallelQuery(i,k,queryV, c)\n",
    "                            blastp_time_end = time.time()\n",
    "                            print(\"The blastp & forward best hit searches took %.2f minutes\"%\\\n",
    "                                  ((blastp_time_end-blastp_time_start)/60)) \n",
    "                        else:\n",
    "                            if queryV_len<cpu_count:\n",
    "                                #if the number of queryV_len is less than cpu_count, Remark will select the number of queryV_len.\n",
    "                                blastp_time_start = time.time()\n",
    "                                parallel_query = DivisionParallelQuery(queryV,1,queryV_len, queryV_len)\n",
    "                                #1 is query division_value. Because queryV_len /queryV_len( = cpu_count) is 1\n",
    "                                for m in range(queryV_len):\n",
    "                                    process = multiprocessing.Process(target= RunParallelQuery, args = (i,k,parallel_query[m],m+1))\n",
    "                                    #args (i => species of query, k = > species of subject, m+1 = > cpu_count e.x) 1,2,3...)\n",
    "                                    process_list.append(process)\n",
    "                                    process.start()\n",
    "                                    for n in process_list:\n",
    "                                        n.join()\n",
    "                                    blastp_time_end = time.time()\n",
    "                                    print(\"The blastp & forward best hit searches took %.2f minutes\"%\\\n",
    "                                          ((blsatp_time_end- blastp_time_start)/60))\n",
    "                                else:\n",
    "                                    blastp_time_start = time.time()\n",
    "                                    query_division_value = queryV_len / cpu_count\n",
    "                                    parallel_query = DivisionParallelQuery(queryV , query_division_value, cpu_count , queryV_len)\n",
    "                                    \n",
    "                                    for m in range(cpu_count):\n",
    "                                        process = multiprocessing.Process(target = RunParallelQuery, args = (i,k,parallel_query[m],m+1))\n",
    "                                        #args (i = > species of query, k = > species of subject, m+1 = > cpu_count ex ) 1,2,...\n",
    "                                        process_list.append(process)\n",
    "                                        process.start()\n",
    "                                    for n in process_list:\n",
    "                                        n.join()\n",
    "                                    blastp_time_end = time.time()\n",
    "                                    print(\"The blastp & forward best hit searches took %.2f minutes\"%((blastp_time_end - blastp_time_start)/60))\n",
    "                            new_calculated_data_list.append(selected_species_dic[i]+\"_\"+selected_species_dic[k])\n",
    "                            if not i ==k :\n",
    "                                backward_best_hit_work_list.append(i,k,queryV_len)\n",
    "    return backward_best_hit_work_list"
   ]
  },
  {
   "cell_type": "code",
   "execution_count": 57,
   "metadata": {},
   "outputs": [],
   "source": [
    "#Oneway_Threshold_Best_Hit(\"1\")\n",
    "queryV  = GetQuerySequence(\"AAE\")"
   ]
  },
  {
   "cell_type": "code",
   "execution_count": 70,
   "metadata": {},
   "outputs": [
    {
     "name": "stdout",
     "output_type": "stream",
     "text": [
      "Parallel Query Running\n",
      "Running Get Forward Best Hit\n",
      ">>>>>>>>>>>>>>>> Get Forward Best Hit>>>>>>>>>>>>>>>>>>>>>>>\n",
      ">>>>>>>>>>>>>>>> Get Forward Best Hit>>>>>>>>>>>>>>>>>>>>>>>\n",
      ">>>>>>>>>>>>>>>> Get Forward Best Hit>>>>>>>>>>>>>>>>>>>>>>>\n",
      ">>>>>>>>>>>>>>>> Get Forward Best Hit>>>>>>>>>>>>>>>>>>>>>>>\n",
      ">>>>>>>>>>>>>>>> Get Forward Best Hit>>>>>>>>>>>>>>>>>>>>>>>\n",
      ">>>>>>>>>>>>>>>> Get Forward Best Hit>>>>>>>>>>>>>>>>>>>>>>>\n",
      ">>>>>>>>>>>>>>>> Get Forward Best Hit>>>>>>>>>>>>>>>>>>>>>>>\n",
      ">>>>>>>>>>>>>>>> Get Forward Best Hit>>>>>>>>>>>>>>>>>>>>>>>\n",
      ">>>>>>>>>>>>>>>> Get Forward Best Hit>>>>>>>>>>>>>>>>>>>>>>>\n",
      ">>>>>>>>>>>>>>>> Get Forward Best Hit>>>>>>>>>>>>>>>>>>>>>>>\n",
      ">>>>>>>>>>>>>>>> Get Forward Best Hit>>>>>>>>>>>>>>>>>>>>>>>\n",
      ">>>>>>>>>>>>>>>> Get Forward Best Hit>>>>>>>>>>>>>>>>>>>>>>>\n",
      ">>>>>>>>>>>>>>>> Get Forward Best Hit>>>>>>>>>>>>>>>>>>>>>>>\n",
      ">>>>>>>>>>>>>>>> Get Forward Best Hit>>>>>>>>>>>>>>>>>>>>>>>\n",
      ">>>>>>>>>>>>>>>> Get Forward Best Hit>>>>>>>>>>>>>>>>>>>>>>>\n",
      ">>>>>>>>>>>>>>>> Get Forward Best Hit>>>>>>>>>>>>>>>>>>>>>>>\n",
      ">>>>>>>>>>>>>>>> Get Forward Best Hit>>>>>>>>>>>>>>>>>>>>>>>\n",
      ">>>>>>>>>>>>>>>> Get Forward Best Hit>>>>>>>>>>>>>>>>>>>>>>>\n",
      ">>>>>>>>>>>>>>>> Get Forward Best Hit>>>>>>>>>>>>>>>>>>>>>>>\n",
      ">>>>>>>>>>>>>>>> Get Forward Best Hit>>>>>>>>>>>>>>>>>>>>>>>\n",
      "## temp best Score ### ['gi|15605613|ref|NP_212986.1|', 'gi|15605613|ref|NP_212986.1|', '3702', '699\\r']\n",
      "284 -1\n",
      "163 284\n",
      "71 284\n",
      "167 284\n",
      "162 284\n",
      "148 284\n",
      "130 284\n",
      "73 284\n",
      "63 284\n",
      "61 284\n",
      "59 284\n",
      "58 284\n",
      "57 284\n",
      "57 284\n",
      "55 284\n",
      "54 284\n",
      "54 284\n",
      "53 284\n",
      "52 284\n"
     ]
    },
    {
     "ename": "TypeError",
     "evalue": "decoding to str: need a bytes-like object, int found",
     "output_type": "error",
     "traceback": [
      "\u001b[1;31m---------------------------------------------------------------------------\u001b[0m",
      "\u001b[1;31mTypeError\u001b[0m                                 Traceback (most recent call last)",
      "\u001b[1;32m<ipython-input-70-dba3551d27ef>\u001b[0m in \u001b[0;36m<module>\u001b[1;34m\u001b[0m\n\u001b[1;32m----> 1\u001b[1;33m \u001b[0mRunParallelQuery\u001b[0m\u001b[1;33m(\u001b[0m\u001b[1;36m1\u001b[0m\u001b[1;33m,\u001b[0m\u001b[1;36m1\u001b[0m\u001b[1;33m,\u001b[0m\u001b[0mqueryV\u001b[0m\u001b[1;33m,\u001b[0m\u001b[1;36m1\u001b[0m\u001b[1;33m)\u001b[0m\u001b[1;33m\u001b[0m\u001b[1;33m\u001b[0m\u001b[0m\n\u001b[0m",
      "\u001b[1;32m<ipython-input-49-534202fa1fff>\u001b[0m in \u001b[0;36mRunParallelQuery\u001b[1;34m(species_of_query, species_of_subject, queryV, parallel_num)\u001b[0m\n\u001b[0;32m     21\u001b[0m                 \u001b[1;32mfor\u001b[0m \u001b[0mbest_score_element\u001b[0m \u001b[1;32min\u001b[0m \u001b[0msame_species_forward_best_score\u001b[0m\u001b[1;33m:\u001b[0m\u001b[1;33m\u001b[0m\u001b[1;33m\u001b[0m\u001b[0m\n\u001b[0;32m     22\u001b[0m                     \u001b[1;32mif\u001b[0m \u001b[0mbest_score_element\u001b[0m\u001b[1;33m[\u001b[0m\u001b[1;36m0\u001b[0m\u001b[1;33m]\u001b[0m \u001b[1;33m==\u001b[0m \u001b[0mbest_score_element\u001b[0m\u001b[1;33m[\u001b[0m\u001b[1;36m1\u001b[0m\u001b[1;33m]\u001b[0m\u001b[1;33m:\u001b[0m \u001b[1;31m#ex [A1 of AAE, A! of AAE , 30 ]\u001b[0m\u001b[1;33m\u001b[0m\u001b[1;33m\u001b[0m\u001b[0m\n\u001b[1;32m---> 23\u001b[1;33m                         \u001b[1;32mwith\u001b[0m \u001b[0mopen\u001b[0m\u001b[1;33m(\u001b[0m\u001b[0mScore_file\u001b[0m\u001b[1;33m+\u001b[0m\u001b[0mselected_species_dic\u001b[0m\u001b[1;33m[\u001b[0m\u001b[0mspecies_of_query\u001b[0m\u001b[1;33m]\u001b[0m\u001b[1;33m+\u001b[0m\u001b[1;34m\"_\"\u001b[0m \u001b[1;33m+\u001b[0m \u001b[0mselected_species_dic\u001b[0m\u001b[1;33m[\u001b[0m\u001b[0mspecies_of_subject\u001b[0m\u001b[1;33m]\u001b[0m\u001b[1;33m+\u001b[0m\u001b[1;34m\"_oneway_threshold_best_hit_S\"\u001b[0m\u001b[1;33m+\u001b[0m\u001b[0mstr\u001b[0m\u001b[1;33m(\u001b[0m\u001b[0mthreshold_score\u001b[0m\u001b[1;33m,\u001b[0m\u001b[1;34m\"a\"\u001b[0m\u001b[1;33m)\u001b[0m\u001b[1;33m)\u001b[0m \u001b[1;32mas\u001b[0m \u001b[0moneway_threshold_best_hit\u001b[0m\u001b[1;33m:\u001b[0m\u001b[1;33m\u001b[0m\u001b[1;33m\u001b[0m\u001b[0m\n\u001b[0m\u001b[0;32m     24\u001b[0m                                   \u001b[0msave_best_score\u001b[0m\u001b[1;33m=\u001b[0m \u001b[0mselected_species_dic\u001b[0m\u001b[1;33m[\u001b[0m\u001b[0mspecies_of_query\u001b[0m\u001b[1;33m]\u001b[0m\u001b[1;33m+\u001b[0m\u001b[1;34m\"_\"\u001b[0m\u001b[1;33m+\u001b[0m\u001b[0mbest_score_element\u001b[0m\u001b[1;33m[\u001b[0m\u001b[1;36m0\u001b[0m\u001b[1;33m]\u001b[0m\u001b[1;33m.\u001b[0m\u001b[0msplit\u001b[0m\u001b[1;33m(\u001b[0m\u001b[1;34m\"\\s\"\u001b[0m\u001b[1;33m[\u001b[0m\u001b[1;36m0\u001b[0m\u001b[1;33m]\u001b[0m\u001b[1;33m)\u001b[0m\u001b[1;33m+\u001b[0m\u001b[1;34m\" \"\u001b[0m\u001b[1;33m+\u001b[0m\u001b[0mselected_species_dic\u001b[0m\u001b[1;33m[\u001b[0m\u001b[0mspecies_of_subject\u001b[0m\u001b[1;33m]\u001b[0m\u001b[1;33m+\u001b[0m \u001b[1;34m\"_\"\u001b[0m\u001b[1;33m+\u001b[0m\u001b[0mbest_score_element\u001b[0m\u001b[1;33m[\u001b[0m\u001b[1;36m1\u001b[0m\u001b[1;33m]\u001b[0m\u001b[1;33m.\u001b[0m\u001b[0msplit\u001b[0m\u001b[1;33m(\u001b[0m\u001b[1;34m\"\\s\"\u001b[0m\u001b[1;33m)\u001b[0m\u001b[1;33m[\u001b[0m\u001b[1;36m0\u001b[0m\u001b[1;33m]\u001b[0m\u001b[1;33m+\u001b[0m\u001b[1;34m\" \"\u001b[0m\u001b[1;33m+\u001b[0m\u001b[0mbest_score_element\u001b[0m\u001b[1;33m[\u001b[0m\u001b[1;36m2\u001b[0m\u001b[1;33m]\u001b[0m\u001b[1;33m+\u001b[0m\u001b[1;34m\"\\n\"\u001b[0m\u001b[1;33m\u001b[0m\u001b[1;33m\u001b[0m\u001b[0m\n\u001b[0;32m     25\u001b[0m                                   \u001b[0moneway_threshold_best_hit\u001b[0m\u001b[1;33m.\u001b[0m\u001b[0mwrite\u001b[0m\u001b[1;33m(\u001b[0m\u001b[0msave_best_score\u001b[0m\u001b[1;33m)\u001b[0m\u001b[1;33m\u001b[0m\u001b[1;33m\u001b[0m\u001b[0m\n",
      "\u001b[1;31mTypeError\u001b[0m: decoding to str: need a bytes-like object, int found"
     ]
    }
   ],
   "source": [
    "RunParallelQuery(1,1,queryV,1)"
   ]
  },
  {
   "cell_type": "code",
   "execution_count": null,
   "metadata": {},
   "outputs": [],
   "source": []
  },
  {
   "cell_type": "code",
   "execution_count": null,
   "metadata": {},
   "outputs": [],
   "source": []
  },
  {
   "cell_type": "code",
   "execution_count": 54,
   "metadata": {},
   "outputs": [
    {
     "ename": "NameError",
     "evalue": "name 'species_of_query' is not defined",
     "output_type": "error",
     "traceback": [
      "\u001b[1;31m---------------------------------------------------------------------------\u001b[0m",
      "\u001b[1;31mNameError\u001b[0m                                 Traceback (most recent call last)",
      "\u001b[1;32m<ipython-input-54-9ce41ebec3c3>\u001b[0m in \u001b[0;36m<module>\u001b[1;34m\u001b[0m\n\u001b[1;32m----> 1\u001b[1;33m \u001b[1;32mwith\u001b[0m \u001b[0mopen\u001b[0m\u001b[1;33m(\u001b[0m\u001b[0mScore_file\u001b[0m\u001b[1;33m+\u001b[0m\u001b[0mselected_species_dic\u001b[0m\u001b[1;33m[\u001b[0m\u001b[0mspecies_of_query\u001b[0m\u001b[1;33m]\u001b[0m\u001b[1;33m+\u001b[0m\u001b[1;34m\"_\"\u001b[0m \u001b[1;33m+\u001b[0m \u001b[0mselected_species_dic\u001b[0m\u001b[1;33m[\u001b[0m\u001b[0mspecies_of_subject\u001b[0m\u001b[1;33m]\u001b[0m\u001b[1;33m+\u001b[0m\u001b[1;34m\"_oneway_threshold_best_hit_S\"\u001b[0m\u001b[1;33m+\u001b[0m\u001b[0mstr\u001b[0m\u001b[1;33m(\u001b[0m\u001b[0mthreshold_score\u001b[0m\u001b[1;33m,\u001b[0m\u001b[1;34m\"a\"\u001b[0m\u001b[1;33m)\u001b[0m\u001b[1;33m)\u001b[0m \u001b[1;32mas\u001b[0m \u001b[0moneway_threshold_best_hit\u001b[0m\u001b[1;33m:\u001b[0m\u001b[1;33m\u001b[0m\u001b[1;33m\u001b[0m\u001b[0m\n\u001b[0m\u001b[0;32m      2\u001b[0m     \u001b[0moneway_threshold_best_hit\u001b[0m\u001b[1;33m.\u001b[0m\u001b[0mreadline\u001b[0m\u001b[1;33m(\u001b[0m\u001b[1;33m)\u001b[0m\u001b[1;33m\u001b[0m\u001b[1;33m\u001b[0m\u001b[0m\n\u001b[0;32m      3\u001b[0m \u001b[1;33m\u001b[0m\u001b[0m\n",
      "\u001b[1;31mNameError\u001b[0m: name 'species_of_query' is not defined"
     ]
    }
   ],
   "source": [
    "with open(Score_file+selected_species_dic[species_of_query]+\"_\" + selected_species_dic[species_of_subject]+\"_oneway_threshold_best_hit_S\"+str(threshold_score,\"a\")) as oneway_threshold_best_hit:\n",
    "    oneway_threshold_best_hit.readline()\n",
    "    "
   ]
  },
  {
   "cell_type": "code",
   "execution_count": 56,
   "metadata": {},
   "outputs": [
    {
     "ename": "NameError",
     "evalue": "name 'i' is not defined",
     "output_type": "error",
     "traceback": [
      "\u001b[1;31m---------------------------------------------------------------------------\u001b[0m",
      "\u001b[1;31mNameError\u001b[0m                                 Traceback (most recent call last)",
      "\u001b[1;32m<ipython-input-56-5b6f19a6ce16>\u001b[0m in \u001b[0;36m<module>\u001b[1;34m\u001b[0m\n\u001b[1;32m----> 1\u001b[1;33m \u001b[0mRunParallelQuery\u001b[0m\u001b[1;33m(\u001b[0m\u001b[0mi\u001b[0m \u001b[1;33m,\u001b[0m \u001b[0mk\u001b[0m \u001b[1;33m,\u001b[0m \u001b[0mqueryV\u001b[0m \u001b[1;33m,\u001b[0m \u001b[0mcpu_count\u001b[0m\u001b[1;33m)\u001b[0m\u001b[1;33m\u001b[0m\u001b[1;33m\u001b[0m\u001b[0m\n\u001b[0m",
      "\u001b[1;31mNameError\u001b[0m: name 'i' is not defined"
     ]
    }
   ],
   "source": []
  },
  {
   "cell_type": "code",
   "execution_count": 35,
   "metadata": {},
   "outputs": [
    {
     "data": {
      "text/plain": [
       "list"
      ]
     },
     "execution_count": 35,
     "metadata": {},
     "output_type": "execute_result"
    }
   ],
   "source": [
    "#Oneway_Threshold_Best_Hit(\"1\")\n",
    "quer = GetQuerySequence(selected_species_dic[11])  \n",
    "type(quer)"
   ]
  },
  {
   "cell_type": "code",
   "execution_count": 26,
   "metadata": {
    "scrolled": false
   },
   "outputs": [
    {
     "ename": "NameError",
     "evalue": "name 'Oneway_Threshold_Best_Hit' is not defined",
     "output_type": "error",
     "traceback": [
      "\u001b[1;31m---------------------------------------------------------------------------\u001b[0m",
      "\u001b[1;31mNameError\u001b[0m                                 Traceback (most recent call last)",
      "\u001b[1;32m<ipython-input-26-1ed837104b8e>\u001b[0m in \u001b[0;36m<module>\u001b[1;34m\u001b[0m\n\u001b[1;32m----> 1\u001b[1;33m \u001b[0mOneway_Threshold_Best_Hit\u001b[0m\u001b[1;33m(\u001b[0m\u001b[1;34m\"1\"\u001b[0m\u001b[1;33m)\u001b[0m\u001b[1;33m\u001b[0m\u001b[1;33m\u001b[0m\u001b[0m\n\u001b[0m",
      "\u001b[1;31mNameError\u001b[0m: name 'Oneway_Threshold_Best_Hit' is not defined"
     ]
    }
   ],
   "source": [
    "Oneway_Threshold_Best_Hit(\"1\")"
   ]
  },
  {
   "cell_type": "markdown",
   "metadata": {},
   "source": [
    "### Get_Same_Species_Forward_Best_Hit(blastp_score)"
   ]
  },
  {
   "cell_type": "code",
   "execution_count": null,
   "metadata": {},
   "outputs": [],
   "source": [
    "def Get_Same_Species_Forward_Best_Hit(blastp_score):\n",
    "    \"\"\" Search the forward best hit among the blastp scores of same species. Because there are an duplicated genes in a same \n",
    "    genome. When the blastp score compare with blastp score of duplicate gene, if score and length are same, blastp score of duplicated\n",
    "    gene is added to a second best score.\"\"\"\n",
    "    print(\"Running Get_Same_Species_Forward_Best_Hit\")\n",
    "    blastp_score_split_list = []\n",
    "    temp_best_score = ['-1','-1','-1']\n",
    "    second_temp_best_score = []\n",
    "    best_score = []\n",
    "    second_best_score = []\n",
    "    blastp_score_split  = blastp_score.split(\"\\n\")\n",
    "    "
   ]
  },
  {
   "cell_type": "code",
   "execution_count": null,
   "metadata": {},
   "outputs": [],
   "source": []
  },
  {
   "cell_type": "code",
   "execution_count": null,
   "metadata": {},
   "outputs": [],
   "source": []
  },
  {
   "cell_type": "markdown",
   "metadata": {},
   "source": [
    "### Run Parallel Query"
   ]
  },
  {
   "cell_type": "code",
   "execution_count": 49,
   "metadata": {},
   "outputs": [],
   "source": [
    "def RunParallelQuery(species_of_query, species_of_subject, queryV, parallel_num):\n",
    "    #from progress import bar\n",
    "    #i --> Species_of_query , k --> Species_of_subject , queryV is Genome list whole file (i , k are part of this)\n",
    "    \"\"\"This Function helps to run operation on Several Process\n",
    "    Run the Following Functions. WriteQuery , RunBlast , Get_Same_Species_Forward_Best_Hit, GetForwardBestHit\"\"\"\n",
    "    \n",
    "    print(\"Parallel Query Running\") \n",
    "    #bar = Bar(\"processing\"+str(cpu_count),max = len(queryV))\n",
    "    #bar = bar(\"processing\"+str(cpu_count),max = len(queryV))  #python 3\n",
    "    for j in queryV:\n",
    "        #bar.next()\n",
    "        WriteQuery(j, cpu_count)\n",
    "        #WriteQuery() Function Only write file with info\n",
    "        blastp_score= RunBlast(selected_species_dic[species_of_subject],parallel_num)\n",
    "        \n",
    "        if blastp_score != \"\":\n",
    "            best_score, blastp_score_split_list = GetForwardBestHit(blastp_score.decode()) #decode() will change to str Format\n",
    "            if species_of_query == species_of_subject: # e.g. AAE == AAE It will save best_score without reversing RunBlast.\n",
    "                same_species_forward_best_score = Get_Same_Species_Forward_Best_Hit(blastp_score.decode())\n",
    "                \n",
    "                for best_score_element in same_species_forward_best_score:\n",
    "                    if best_score_element[0] == best_score_element[1]: #ex [A1 of AAE, A! of AAE , 30 ]\n",
    "                        with open(Score_file+selected_species_dic[species_of_query]+\"_\" + selected_species_dic[species_of_subject]+\"_oneway_threshold_best_hit_S\"+str(threshold_score,\"a\")) as oneway_threshold_best_hit:\n",
    "                                  save_best_score= selected_species_dic[species_of_query]+\"_\"+best_score_element[0].split(\"\\s\"[0])+\" \"+selected_species_dic[species_of_subject]+ \"_\"+best_score_element[1].split(\"\\s\")[0]+\" \"+best_score_element[2]+\"\\n\"\n",
    "                                  oneway_threshold_best_hit.write(save_best_score)\n",
    "                                 #best_score_element[0].split(\"|\" ==> [\"gi\", '15642790','ref', \"NP_227831.1\",\"\"])\n",
    "                    else:\n",
    "                        # ex ) [ A1 of AAE , A2 of AAE, 30]\n",
    "                        with open (Score_file+selected_species_dic[species_of_query]+\"_\"+selected_species_dic[species_of_subject]+\n",
    "                                  \"_second_oneway_threshold_best_hit_S\"+ str(threshold_score),\"a\") as second_onewaythreshold_best_hit:\n",
    "                                  second_save_best_score = selected_species_dic[species_of_query]+\"_\"+best_score_element[0].split(\"\\s\")[0].split(\"\\s\")[0]+\\\n",
    "                                  selected_species_dic[species_of_subject]+\"_\"+best_score_element[1].split(\"\\s\")[0]+\" \"+best_score_element[2]+\" \"+best_score_element[3]+\"\\n\"\n",
    "                                  second_oneway_threshold_best_hit.write(second_save_best_score)\n",
    "            \n",
    "                else: # If species_of_query not equal with species_of_subject , run reversing RunBlast\n",
    "                    for best_score_element in best_score:\n",
    "                        if not \"-1\" in best_score_element :\n",
    "                            with open(Score_file+selected_species_dic[species_of_query]+\"_\"+selected_species_dic[species_of_subject]+\"_S\"+str(threshold_score)+\"_\"+str(parallel_num),\"a\") as save_blastp:\n",
    "                                save_blastp_score_split_list.write(blastp_score_split_list_save)\n",
    "            #bar.finish()\n",
    "            return "
   ]
  },
  {
   "cell_type": "code",
   "execution_count": 50,
   "metadata": {},
   "outputs": [],
   "source": [
    "blastp_score= RunBlast(selected_species_dic[1],1)"
   ]
  },
  {
   "cell_type": "code",
   "execution_count": 78,
   "metadata": {},
   "outputs": [
    {
     "data": {
      "text/plain": [
       "b'gi|15004706|ref|NP_149166.1|,gi|15606796|ref|NP_214176.1|,166,240\\r\\ngi|15004706|ref|NP_149166.1|,gi|15606469|ref|NP_213849.1|,65,186\\r\\ngi|15004706|ref|NP_149166.1|,gi|15606745|ref|NP_214125.1|,55,117\\r\\ngi|15004706|ref|NP_149166.1|,gi|15606205|ref|NP_213582.1|,51,61\\r\\ngi|15004706|ref|NP_149166.1|,gi|15605883|ref|NP_213260.1|,51,23\\r\\ngi|15004706|ref|NP_149166.1|,gi|15606235|ref|NP_213613.1|,49,16\\r\\ngi|15004706|ref|NP_149166.1|,gi|15606075|ref|NP_213452.1|,48,86\\r\\ngi|15004706|ref|NP_149166.1|,gi|15605704|ref|NP_213081.1|,49,36\\r\\ngi|15004706|ref|NP_149166.1|,gi|15606425|ref|NP_213805.1|,49,64\\r\\ngi|15004706|ref|NP_149166.1|,gi|15605876|ref|NP_213253.1|,47,30\\r\\ngi|15004706|ref|NP_149166.1|,gi|15605857|ref|NP_213234.1|,48,44\\r\\ngi|15004706|ref|NP_149166.1|,gi|15606768|ref|NP_214148.1|,47,98\\r\\ngi|15004706|ref|NP_149166.1|,gi|15606894|ref|NP_214275.1|,48,72\\r\\n'"
      ]
     },
     "execution_count": 78,
     "metadata": {},
     "output_type": "execute_result"
    }
   ],
   "source": [
    "RunBlast(\"AAE\",1)"
   ]
  },
  {
   "cell_type": "code",
   "execution_count": null,
   "metadata": {},
   "outputs": [],
   "source": []
  },
  {
   "cell_type": "markdown",
   "metadata": {},
   "source": [
    "### GetQuerySequence (genome)"
   ]
  },
  {
   "cell_type": "code",
   "execution_count": 21,
   "metadata": {},
   "outputs": [],
   "source": [
    "def GetQuerySequence(genome):\n",
    "    \"\"\"This Function Read Fastaq Files and return as a list Format with gene Position as a index\n",
    "    Later I will reduce code Lengths and Speed\n",
    "    \"\"\"\n",
    "    gene_sequence=\"\"\n",
    "    gene_sequence_list= []\n",
    "    try:\n",
    "        with open(Species+genome) as gene:\n",
    "            for each_line in gene:\n",
    "                if \">\" in each_line:\n",
    "                    if gene_sequence != \"\":                        \n",
    "                        gene_sequence_list.append(gene_sequence)\n",
    "                        gene_sequence = \"\"\n",
    "                gene_sequence = gene_sequence+each_line\n",
    "            gene_sequence_list.append(gene_sequence)                   \n",
    "            return gene_sequence_list                        \n",
    "                                            \n",
    "    except IOError as err:\n",
    "        print (\"IOError occurred in GetQuerySequence function : \" + str(err)    )"
   ]
  },
  {
   "cell_type": "markdown",
   "metadata": {},
   "source": [
    "## GetForwardBestHit(blastp_score)"
   ]
  },
  {
   "cell_type": "code",
   "execution_count": 22,
   "metadata": {},
   "outputs": [],
   "source": [
    "def GetForwardBestHit(blastp_score):\n",
    "    \"Search the forward best hit among blastp scores of same species\"\n",
    "    print(\"Running Get Forward Best Hit\")\n",
    "    blastp_score_split_list = []\n",
    "    temp_best_score = ['-1','-1','-1']\n",
    "    second_temp_best_score = []\n",
    "    best_score = []\n",
    "    blastp_score_split = blastp_score.split(\"\\n\")\n",
    "    \n",
    "    del blastp_score_split[-1] #Remove last index of \"\\n\"\n",
    "    for i in blastp_score_split:\n",
    "        blastp_score_element = i.split(\",\")\n",
    "        blastp_score_split_list.append(blastp_score_element)\n",
    "    for k in blastp_score_split_list:\n",
    "        # ex) k is [\"gi|15605613|ref|NP_212986.1|\",'gi|15605613|ref|NP_212986.1|', '3702', '699']\n",
    "        print(\">>>>>>>>>>>>>>>> Get Forward Best Hit>>>>>>>>>>>>>>>>>>>>>>>\")\n",
    "        if int(k[2])>int(temp_best_score[2]): # Compare Score\n",
    "            temp_best_score = k\n",
    "        elif int(k[2]) == int(temp_best_score[2]):\n",
    "            if int(k[3])> int(temp_best_score[3]): #Comapare the Length\n",
    "                temp_best_score = k\n",
    "            elif int(k[3]) == int(temp_best_score[3]):\n",
    "                second_temp_best_score.append(k)\n",
    "    print(\"## temp best Score ###\",temp_best_score)\n",
    "    best_score.append(temp_best_score)\n",
    "    for j in second_temp_best_score:\n",
    "        if j[2] == temp_best_score[2] and j[3] == temp_best_score[3]:\n",
    "            best_score.append(j)\n",
    "    return best_score , blastp_score_split_list"
   ]
  },
  {
   "cell_type": "code",
   "execution_count": 80,
   "metadata": {},
   "outputs": [
    {
     "name": "stdout",
     "output_type": "stream",
     "text": [
      "gi|15605613|ref|NP_212986.1|,gi|15606309|ref|NP_213688.1|,52,166\r\n"
     ]
    }
   ],
   "source": [
    "#a = a.split(\"\\n\")\n",
    "print(a[-1])\n",
    "#del(a[-1])"
   ]
  },
  {
   "cell_type": "code",
   "execution_count": 89,
   "metadata": {},
   "outputs": [
    {
     "name": "stdout",
     "output_type": "stream",
     "text": [
      "Running Get Forward Best Hit\n",
      "## temp best Score ### ['-1', '-1', '-1']\n"
     ]
    },
    {
     "data": {
      "text/plain": [
       "([['-1', '-1', '-1']], [])"
      ]
     },
     "execution_count": 89,
     "metadata": {},
     "output_type": "execute_result"
    }
   ],
   "source": [
    "GetForwardBestHit(str(blastp_score))"
   ]
  },
  {
   "cell_type": "markdown",
   "metadata": {},
   "source": [
    "### DivisionParallelQuery(queryV,query_division_value, cpu_count , queryV_len)"
   ]
  },
  {
   "cell_type": "code",
   "execution_count": 83,
   "metadata": {},
   "outputs": [],
   "source": [
    "def DivisionParallelQuery( queryV ,query_division_value,cpu_count,queryV_len):\n",
    "    \"\"\" Running Division parallel Query,input is species_of_query , species_of_subject, queryV, parallel_num\"\"\"\n",
    "    parallel_query = []\n",
    "    parallel_query_start = 0\n",
    "    if queryV_len % cpu_count == 0: #Perfect division by CPU Count\n",
    "        for i in range(cpu_count):\n",
    "            i+=1\n",
    "            if parallel_query_start ==0:\n",
    "                parallel_query.append(queryV[int(parallel_query_start):i*int(query_division_value)])\n",
    "                parallel_query_start +=1\n",
    "            else:\n",
    "                parallel_query.append(queryV[int(parallel_query_start)*int(query_division_value):i*int(query_division_value)])\n",
    "                parallel_query_start +=1\n",
    "    else: # If the division is imperfect\n",
    "        for i in range(cpu_count):\n",
    "            i += 1\n",
    "            if parallel_query_start == 0:\n",
    "                parallel_query.append(queryV[int(parallel_query_start):i*int(query_division_value)])\n",
    "                parallel_query_start +=1\n",
    "            elif i<cpu_count:\n",
    "                parallel_query.append(queryV[int(parallel_query_start)*int(query_division_value):])\n",
    "                parallel_query_start +=1\n",
    "        return parallel_query"
   ]
  },
  {
   "cell_type": "code",
   "execution_count": 105,
   "metadata": {},
   "outputs": [
    {
     "data": {
      "text/plain": [
       "['My name is']"
      ]
     },
     "execution_count": 105,
     "metadata": {},
     "output_type": "execute_result"
    }
   ],
   "source": [
    "DivisionParallelQuery(queryV =\"My name is krishna n i am From Nepal\" ,query_division_value=10,cpu_count=2,queryV_len=5)"
   ]
  },
  {
   "cell_type": "markdown",
   "metadata": {},
   "source": [
    "## Main Program Testing"
   ]
  },
  {
   "cell_type": "code",
   "execution_count": 23,
   "metadata": {},
   "outputs": [],
   "source": [
    "# arg parse is not done here\n",
    "# If parameter not Provided the below code will run"
   ]
  },
  {
   "cell_type": "code",
   "execution_count": 27,
   "metadata": {},
   "outputs": [
    {
     "name": "stdout",
     "output_type": "stream",
     "text": [
      "1. AAE\n",
      "2. CAC\n",
      "3. ECO\n",
      "4. ECU\n",
      "5. HIN\n",
      "6. LLA\n",
      "7. SCE\n",
      "8. SPO\n",
      "9. SPY\n",
      "10. SYN\n",
      "11. TMA\n",
      "12. YPE\n",
      "\n"
     ]
    }
   ],
   "source": [
    "Read_Species_List(pr=1) #Return values\n",
    "print()"
   ]
  },
  {
   "cell_type": "code",
   "execution_count": 24,
   "metadata": {},
   "outputs": [
    {
     "name": "stdout",
     "output_type": "stream",
     "text": [
      "1. BLASTP. \n",
      "2. BLASTP using precalculated data. \n",
      "3. Clustering.\n",
      "\n",
      ">> Select a mode or modes (1 or 2 or 1 3 or 2 3): 1\n",
      "1. AAE\n",
      "2. CAC\n",
      "3. ECO\n",
      "4. ECU\n",
      "5. HIN\n",
      "6. LLA\n",
      "7. SCE\n",
      "8. SPO\n",
      "9. SPY\n",
      "10. SYN\n",
      "11. TMA\n",
      "12. YPE\n",
      ">> Select Genomes to detect Orthologs(e.g. 1 2 3 4 5 or 1-5) : 1\n",
      "AAE \n",
      "1. BLOSUM45\n",
      "2. BLOSUM62\n",
      "3. BLOSUM82\n",
      "4. Quit\n",
      "\n",
      "Enter a matrix number: 2\n",
      "You can use 12 processors. \n",
      "If you input >2, The Program will run a parallel--Enter the number of CPU you want to use :1\n"
     ]
    }
   ],
   "source": [
    "#if not sys.argv[1:]\n",
    "\n",
    "import sys\n",
    "import multiprocessing\n",
    "\n",
    "# If Program not Passed with Parameter\n",
    " # if Not verified Conflict arise for local and global Variable\n",
    "print (\"1. BLASTP. \\n2. BLASTP using precalculated data. \\n3. Clustering.\\n\")\n",
    "mode = input(\">> Select a mode or modes (1 or 2 or 1 3 or 2 3): \") \n",
    "selected_species_dic, backward_selected_species_dic, number_i = Read_Species_List(pr=1)\n",
    "selected_number = input(\">> Select Genomes to detect Orthologs(e.g. 1 2 3 4 5 or 1-5) : \")\n",
    "\n",
    "\n",
    "if selected_number.find(\"-\")>0:\n",
    "    SN = selected_number.split(\"-\")\n",
    "    if int(SN[-1])>number_i:\n",
    "        print(\"Your input must be less than\" , number_i)\n",
    "        sys.exit(2)\n",
    "    else:\n",
    "        user_selected_number = range(int(SN[0]),int(SN[-1])+1)\n",
    "        print(user_selected_number)\n",
    "        for j in user_selected_number:\n",
    "            print(selected_species_dic[j],end=\" \")\n",
    "        print(\"Are Selected\")\n",
    "else:\n",
    "    user_selected_number = sorted(set([int(read_species) for read_species in selected_number.split()]))\n",
    "    if int(user_selected_number[-1])>number_i:\n",
    "        print (\"\\nWrongInput\\nInput must be less than\",number_i)\n",
    "        sys.exit(2)\n",
    "    else:\n",
    "        for j in user_selected_number:\n",
    "            print(selected_species_dic[j], end =\" \")\n",
    "\n",
    "blastp_matrix = GetMatrixNumber()\n",
    "cpu_count = int(input(\"You can use %s processors. \\nIf you input >2, The Program will run a parallel--\"\\\n",
    "                      %multiprocessing.cpu_count()+\"Enter the number of CPU you want to use :\"))\n",
    "if \"3\" in mode:\n",
    "    inflation_factor = input(\"Enter the inflation factor to cluster\")\n",
    "    Cluster_out = input(\"Set the name of Clustering output :\")\n",
    "    "
   ]
  },
  {
   "cell_type": "code",
   "execution_count": null,
   "metadata": {},
   "outputs": [],
   "source": []
  },
  {
   "cell_type": "markdown",
   "metadata": {},
   "source": [
    "##### if Paramater Passed with Python Code"
   ]
  },
  {
   "cell_type": "code",
   "execution_count": null,
   "metadata": {},
   "outputs": [],
   "source": [
    "##elif sys.argv[1:]\n",
    "##command_options = argparse_value\n",
    "#genomes = command_options.genomes\n",
    "#mode = command_options.mode\n",
    "#cpu_count= command_options.cpu_count\n",
    "#blastp_matrix = command_options.blastp_matrix\n",
    "#inflation_factor = command_options.inflation_factor\n",
    "#selected_species_dic,backward_selected_species_dic, number_i = Read_Species_List()\n",
    "#user_selected_number = [backward_selected_species_dic[ele] for ele in genomes]\n",
    "#Cluster_out = command_options.Cluster_out"
   ]
  },
  {
   "cell_type": "code",
   "execution_count": null,
   "metadata": {},
   "outputs": [],
   "source": [
    "#Species = command_options.Species\n",
    "#Blastp = COmmand_options.Blastp\n",
    "#Score_file = command_options.Score_file\n",
    "#Blastp_data = command_options.Blastp_data\n",
    "#save_raw_blastp_score = command_options.threshold_score\n",
    "#threshold_score = command_options.threshold_score\n",
    "#verbose = command_options.verbose\n",
    "#infinite_loop = command_options.infinite_loop\n",
    "#\n",
    "#if \"3\" in mode:\n",
    "#    Check_File(Cluster_out)\n",
    "#Del_File(score_file, \"*\")\n",
    "#if \"3\" in mode:\n",
    "#    Log_file_name = Cluster_out+\"_S\"+str(threshold_score)+\"_\"+str(inflation_factor)+\".log\"\n",
    "#elif not \"3\" in mode:\n",
    "#    Log_file_name = \"Log\"\n",
    "#\n",
    "#with open(Log_file_name, \"w\") as log:\n",
    "#    log.write(str(datetime.date_time.now()))\n",
    "#    log.write(\"\\nmode\")\n",
    "#    for i in mode:\n",
    "#        log.write(\" \"+i)\n",
    "#    log.write(\"\\ngenomes:\")\n",
    "#    for i in user_selected_number:\n",
    "#        log.write(selected_species_dic[i]+\" \")\n",
    "#    log.write(\"\\nCPU_Count:\"+str(cpu_count))\n",
    "#    log.write(\"\\nblastp matrix :\"+blastp_matrix)\n",
    "#    if \"3\" in mode:\n",
    "#        log.write(\"\\ninflation_factor: \"+str(inflation_factor))\n",
    "#        log.write(\"\\nCluster out:\"+Cluster_out)\n",
    "#    log.write(\"\\nSpecies :\"+Species)\n",
    "#    log.write(\"\\nBlastp: \"+Blastp)\n",
    "#    log.write(\"\\nScore file : \"+ Score_file)\n",
    "#    log.write(\"\\nBlastp_data : \"+ Blastp_data)\n",
    "#    log.write(\"\\nsave rawblastp score : \"+ str(save_raw_blastp_score))\n",
    "#    log.write(\"\\n\")\n",
    "#"
   ]
  },
  {
   "cell_type": "code",
   "execution_count": null,
   "metadata": {},
   "outputs": [],
   "source": [
    "start_time_OBH = time.time()"
   ]
  },
  {
   "cell_type": "code",
   "execution_count": 31,
   "metadata": {},
   "outputs": [
    {
     "ename": "NameError",
     "evalue": "name 'Oneway_Threshold_Best_Hit' is not defined",
     "output_type": "error",
     "traceback": [
      "\u001b[1;31m---------------------------------------------------------------------------\u001b[0m",
      "\u001b[1;31mNameError\u001b[0m                                 Traceback (most recent call last)",
      "\u001b[1;32m<ipython-input-31-978e33afad88>\u001b[0m in \u001b[0;36m<module>\u001b[1;34m\u001b[0m\n\u001b[0;32m      1\u001b[0m \u001b[1;32mif\u001b[0m \u001b[1;34m\"1\"\u001b[0m \u001b[1;32min\u001b[0m  \u001b[0mmode\u001b[0m\u001b[1;33m:\u001b[0m\u001b[1;33m\u001b[0m\u001b[1;33m\u001b[0m\u001b[0m\n\u001b[1;32m----> 2\u001b[1;33m     \u001b[0mbackward_best_hit_work_list\u001b[0m \u001b[1;33m=\u001b[0m \u001b[0mOneway_Threshold_Best_Hit\u001b[0m\u001b[1;33m(\u001b[0m\u001b[0mmode\u001b[0m\u001b[1;33m)\u001b[0m\u001b[1;33m\u001b[0m\u001b[1;33m\u001b[0m\u001b[0m\n\u001b[0m\u001b[0;32m      3\u001b[0m     \u001b[0mpool\u001b[0m \u001b[1;33m=\u001b[0m \u001b[0mmultiprocessing\u001b[0m\u001b[1;33m.\u001b[0m\u001b[0mPool\u001b[0m\u001b[1;33m(\u001b[0m\u001b[0mcpu_count\u001b[0m\u001b[1;33m)\u001b[0m\u001b[1;33m\u001b[0m\u001b[1;33m\u001b[0m\u001b[0m\n\u001b[0;32m      4\u001b[0m     \u001b[0mresults\u001b[0m \u001b[1;33m=\u001b[0m \u001b[0mpool\u001b[0m\u001b[1;33m.\u001b[0m\u001b[0mmap\u001b[0m\u001b[1;33m(\u001b[0m\u001b[0mBackward_Best_Hit\u001b[0m\u001b[1;33m,\u001b[0m \u001b[0mbackward_best_hit_work_list\u001b[0m\u001b[1;33m)\u001b[0m\u001b[1;33m\u001b[0m\u001b[1;33m\u001b[0m\u001b[0m\n\u001b[0;32m      5\u001b[0m     \u001b[0mpool\u001b[0m\u001b[1;33m.\u001b[0m\u001b[0mclose\u001b[0m\u001b[1;33m(\u001b[0m\u001b[1;33m)\u001b[0m\u001b[1;33m\u001b[0m\u001b[1;33m\u001b[0m\u001b[0m\n",
      "\u001b[1;31mNameError\u001b[0m: name 'Oneway_Threshold_Best_Hit' is not defined"
     ]
    }
   ],
   "source": [
    "if \"1\" in  mode:\n",
    "    backward_best_hit_work_list = Oneway_Threshold_Best_Hit(mode)\n",
    "    pool = multiprocessing.Pool(cpu_count)\n",
    "    results = pool.map(Backward_Best_Hit, backward_best_hit_work_list)\n",
    "    pool.close()\n",
    "    pool.join()\n",
    "elif \"2\" in mode:\n",
    "    used_precalculated_data_list = []\n",
    "    new_calculated_data_list = []\n",
    "    precalculated_data_list = glob.glob(Blastp_data+\"*oneway_threshold_best_hit_S\"+str(threshold_score))\n",
    "    print(precalculated_data_list)\n",
    "    backward_best_hit_work_list = Oneway_Threshold_Best_Hit(mode)\n",
    "    \n",
    "    if not backward_best_hit_work_list ==[]:\n",
    "        #If backward_best_hit_work_list is an empty list, pool instance can't finish the work.\n",
    "        pool = multiprocessing.Pool(cpu_count)\n",
    "        results = pool.map(Backward_Best_Hit, backward_best_hit_work_list)\n",
    "        pool.close()\n",
    "        pool.join()\n",
    "    else:\n",
    "        results = [0,0]\n",
    "Del_File(\"./\",\"query*\")\n",
    "finish_time_OBH = time.time()\n",
    "blastp_time_log = float(((finish_time_OBH - start_time_OBH)/60))\n",
    "print(\"BLASTP searches + forward best Hit + backwardbest hit took %f minutes\"%blastp_time_log)\n",
    "\n",
    "with open(Log_file_name , \"a\") as log:\n",
    "    log.write(\"Backward_Best_Hit took \"+str(max(results))+\" minutes\\n\")\n",
    "    log.write(\"BLASTP + Best_Hit + backward_best_hit searches took\"+ str(blastp_time_log)+\" minutes\\n\")\n",
    "if \"3\" in mode:\n",
    "    start_time_clustering = time.time()\n",
    "    #generate matrix calculate the matrix using MCL algorithm and cluster the Ortholog\n",
    "    \n",
    "    print(\"\\n >>> Start MCL algorithm and Clustering ortholog <<<\")\n",
    "    equal_BBH_data = []\n",
    "    unequal_BBH_data = []\n",
    "    equal_BBH_data_dic = {}\n",
    "    second_equal_BBH_data = []\n",
    "    results = que.Queue()\n",
    "    tasks = queue.Queue()\n",
    "    cluster_count = 1\n",
    "    ortholog_count = 0\n",
    "    gene_id_dic = {}\n",
    "    \n",
    "    with open(\"myva=gb\",\"r\") as id_read:\n",
    "        #myvba=gb is a database\n",
    "        for i in id_read:\n",
    "            gene_name,gene_id = i.split()\n",
    "            gene_id_dic[gene_id.replace(\"\\n\",\"\")] = gene_name # remove '\\n'\n",
    "            \n",
    "        if \"1\" in mode:\n",
    "            for i in user_selected_number:\n",
    "                for k in user_selected_number:\n",
    "                    if k<i:\n",
    "                        pass\n",
    "                    elif i ==k:\n",
    "                        Read_Equal_BBH(Score_file+selected_species_dic[i]+\"_\"+selected_species_dic[k])\n",
    "                    elif i !=k:\n",
    "                        Read_Unequal_BBH(Score_file+selected_species_dic[i]+\"_\"+selected_species_dic[k])\n",
    "        elif \"2\" in mode:\n",
    "            for used_data in used_precalculated_data_list:\n",
    "                first,second = used_data.split(\"_\")\n",
    "                if first == second:\n",
    "                    Read_Equal_BBH(Blastp_data+used-data)\n",
    "                elif first != second:\n",
    "                    Read_Unequal_BBH(Blastp_data+used_data)\n",
    "            for new_data in new_calculated_data_list:\n",
    "                first,second = new_data.split(\"_\")\n",
    "                if first== second:\n",
    "                    Read_Equal_BBH(Score_file+new_data)\n",
    "                elif first != second:\n",
    "                    Read_Unequal_BBH(Score_file+new_data)\n",
    "        matched_BBH_data = []\n",
    "        matched_BBH_element_data_set = []\n",
    "        \n",
    "        for unequal_RBH_element in unequal_BBH_data:\n",
    "            Matching_BBH(unequal_RBH_element)\n",
    "            temp_results_list = []\n",
    "            if results._qsize() !=0: #return the number of results as Queue.\n",
    "                while not results.empty():\n",
    "                    get_results = results.get()\n",
    "                    temp_results_list.append(get_results)\n",
    "                matched_BBH_data.append(temp_results_list)\n",
    "        #bar = bar(\"Processing\", max= len(matched_BBH_data))\n",
    "        #bar = bar(\"Processing\", max= len(matched_BBH_data)) #Not Supported in Python 3\n",
    "        #for data in matched_BBH_data:\n",
    "        #    Generating_Matrix_Clustering_Ortholog(data, bar)\n",
    "        #bar.finish()\n",
    "        finish_time_clustering = time.time()\n",
    "        mcl_time_log = float((finish_time_clustering - start_time_clustering)/60)\n",
    "        remark_time_log = float((finish_time_clustering- start_time_OBH)/60)\n",
    "        print(\"MCL algorithm and Ortholog Clustering took %.2f minutes\"%remark_time_log)\n",
    "        \n",
    "        if \"3\" in mode:\n",
    "            with open(Log_file_name,\"a\") as log:\n",
    "                log.write(\"Ortholog Count: \"+str(ortholog_count)+\",\"+\"Cluster count: \"+ str(cluster_count-1)+\"\\n\")\n",
    "                log.write(\"MCL algorithm and Ortholog Clustering took \"+str(mcl_time_log)+\"minutes\\n\")\n",
    "                log.write(\"xxx Program took \"+str(remark_time_log)+\"minutes\\n\")"
   ]
  },
  {
   "cell_type": "code",
   "execution_count": null,
   "metadata": {},
   "outputs": [],
   "source": []
  },
  {
   "cell_type": "code",
   "execution_count": null,
   "metadata": {},
   "outputs": [],
   "source": []
  }
 ],
 "metadata": {
  "kernelspec": {
   "display_name": "Python 3",
   "language": "python",
   "name": "python3"
  },
  "language_info": {
   "codemirror_mode": {
    "name": "ipython",
    "version": 3
   },
   "file_extension": ".py",
   "mimetype": "text/x-python",
   "name": "python",
   "nbconvert_exporter": "python",
   "pygments_lexer": "ipython3",
   "version": "3.7.4"
  }
 },
 "nbformat": 4,
 "nbformat_minor": 2
}
