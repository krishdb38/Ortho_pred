{
 "cells": [
  {
   "cell_type": "markdown",
   "metadata": {},
   "source": [
    "## Ortho Prediction Software Developing by krish:"
   ]
  },
  {
   "cell_type": "markdown",
   "metadata": {},
   "source": [
    "#### main / Global Variable use in this program"
   ]
  },
  {
   "cell_type": "code",
   "execution_count": 81,
   "metadata": {},
   "outputs": [],
   "source": [
    "#Blastp = /usr/bin/blastp\n",
    "Blastp = \"blastp\"\n",
    "Blastp_data =  './blastp_data/'\n",
    "cpu_count = 1 # Default value\n",
    "#genome = None\n",
    "genome = \"\"\n",
    "infinite_loop = 70\n",
    "inflation_factor = 1.4\n",
    "#mode = None\n",
    "mode = None\n",
    "Cluster_out = \"./cluster_out/\"\n",
    "#threshold_score : 0\n",
    "threshold_score =0\n",
    "Save_raw_blastp_score = False\n",
    "Score_file = \"./score_file\"\n",
    "Species = \"./species/\"\n",
    "verbose = False"
   ]
  },
  {
   "cell_type": "markdown",
   "metadata": {},
   "source": [
    "## 1. Read_Species_List()"
   ]
  },
  {
   "cell_type": "code",
   "execution_count": 5,
   "metadata": {},
   "outputs": [
    {
     "data": {
      "text/plain": [
       "({1: 'species\\\\AAE',\n",
       "  2: 'species\\\\CAC',\n",
       "  3: 'species\\\\ECO',\n",
       "  4: 'species\\\\ECU',\n",
       "  5: 'species\\\\HIN',\n",
       "  6: 'species\\\\LLA',\n",
       "  7: 'species\\\\SCE',\n",
       "  8: 'species\\\\SPO',\n",
       "  9: 'species\\\\SPY',\n",
       "  10: 'species\\\\SYN',\n",
       "  11: 'species\\\\TMA',\n",
       "  12: 'species\\\\YPE'},\n",
       " {'species\\\\AAE': 1,\n",
       "  'species\\\\CAC': 2,\n",
       "  'species\\\\ECO': 3,\n",
       "  'species\\\\ECU': 4,\n",
       "  'species\\\\HIN': 5,\n",
       "  'species\\\\LLA': 6,\n",
       "  'species\\\\SCE': 7,\n",
       "  'species\\\\SPO': 8,\n",
       "  'species\\\\SPY': 9,\n",
       "  'species\\\\SYN': 10,\n",
       "  'species\\\\TMA': 11,\n",
       "  'species\\\\YPE': 12},\n",
       " 12)"
      ]
     },
     "execution_count": 5,
     "metadata": {},
     "output_type": "execute_result"
    }
   ],
   "source": [
    "import glob\n",
    "species = \"./species/\"\n",
    "def Read_Species_List(pr=1):\n",
    "    global species\n",
    "    \"\"\" If pr is 1, it will print \"Species_List\". \"\"\" \n",
    "    read_species =glob.glob(species+\"/*\")   \n",
    "    selected_species_dic = {}\n",
    "    backward_selected_species_dic = {}\n",
    "    number = 0\n",
    "    for i, species in enumerate(sorted(read_species), start=1):\n",
    "        selected_species_dic[i] = species.split('/')[-1]\n",
    "        backward_selected_species_dic[species.split('/')[-1]] = i \n",
    "        #if pr == 1 :\n",
    "            #print (str(i)+\".\", species.split('/')[-1])\n",
    "        number = i\n",
    "    return selected_species_dic, backward_selected_species_dic, number\n",
    "Read_Species_List()"
   ]
  },
  {
   "cell_type": "markdown",
   "metadata": {},
   "source": [
    "## 1. GetMatrixNumber()"
   ]
  },
  {
   "cell_type": "code",
   "execution_count": null,
   "metadata": {},
   "outputs": [],
   "source": [
    "#The Following matrix files must be in Folder\n",
    "import os\n",
    "def GetMatrixNumber():\n",
    "    \"This Function will Return the Matrix name choosed by User\"\n",
    "    import sys\n",
    "    print (\"\\n1. BLOSUM45\\n2. BLOSUM62\\n3. BLOSUM82\\n4. Quit\")\n",
    "\n",
    "    metrix_num = input(\"\\nEnter a matrix number: \")\n",
    "    if metrix_num not in (\"1\",\"2\",'3'):\n",
    "        print(\"Wrong input *%s*Sorry not in list\\n\"%metrix_num,\"*\"*20,\"Good Bye\",\"*\"*20,\"\\n\")\n",
    "        sys.exit(1)\n",
    "    if metrix_num ==\"1\":\n",
    "        return \"BLOSUM45\"\n",
    "    if metrix_num == \"2\":\n",
    "        return \"BLOSUM62\"\n",
    "    if metrix_num == \"3\":\n",
    "        return \"BLOSUM82\"\n",
    "#GetMatrixNumber()"
   ]
  },
  {
   "cell_type": "markdown",
   "metadata": {},
   "source": [
    "### 2. GetQuerySequence(genome)"
   ]
  },
  {
   "cell_type": "code",
   "execution_count": 82,
   "metadata": {},
   "outputs": [],
   "source": [
    "species = \"./species/\"\n",
    "def GetQuerySequence(genome):\n",
    "    \"\"\"This Function Read Fastaq Files and return as a list Format with gene Position as a index\n",
    "    Later I will reduce code Lengths and Speed\"\"\"\n",
    "    gene_sequence=\"\"\n",
    "    gene_sequence_list= []\n",
    "    try:\n",
    "        with open(species+genome) as gene:\n",
    "            for each_line in gene:\n",
    "                if \">\" in each_line:\n",
    "                    if gene_sequence != \"\":                        \n",
    "                        gene_sequence_list.append(gene_sequence)\n",
    "                        gene_sequence = \"\"\n",
    "                gene_sequence = gene_sequence+each_line\n",
    "            gene_sequence_list.append(gene_sequence)                   \n",
    "        return gene_sequence_list                        \n",
    "                                            \n",
    "    except IOError as err:\n",
    "        print (\"IOError occurred in GetQuerySequence function : \" + str(err)    )\n",
    "b = GetQuerySequence(\"AAE\")"
   ]
  },
  {
   "cell_type": "code",
   "execution_count": 84,
   "metadata": {},
   "outputs": [
    {
     "data": {
      "text/plain": [
       "'>gi|15605613|ref|NP_212986.1| elongation factor EF-G [Aquifex aeolicus VF5]\\nMAREVPIEKLRNIGIVAHIDAGKTTTTERILYYTGKTYKIGEVHEGAATMDWMPQEKERGITITVATTAC\\nYWTRNGERYQINIIDTPGHVDFSVEVVRSMKVLDGIVFIFSAVEGVQPQSEANWRWADRFQVPRIAFINK\\nMDRLGADFYRVFKEIEEKLTIKPVAIQIPLGAEDQFEGVIDLMEMKAIRWLEETLGAKYEVVDIPPEYQE\\nKAQEWREKMIETIVETDDELMEKYLEGQEISIDELRKALRKATIERKLVPVLCGSAFKNKGVQPLLDAVI\\nDYLPSPIDLPPVKGTNPKTGEEEVRHPSDDEPFCAYAFKVMSDPYAGQLTYIRVFSGTLKAGSYVYNATK\\nDEKQRAGRLLLMHANSREEIQQVSAGEICAVVGLDAATGDTLCDEKHPIILEKLEFPDPVISMAIEPKTK\\nKDQEKLSQVLNKFMKEDPTFRATTDPETGQILIHGMGELHLEIMVDRMKREYGIEVNVGKPQVAYKETIR\\nKKAIGEGKFIKQTGGRGQYGHAIIEIEPLPRGAGFEFIDDIHGGVIPKEFIPSVEKGVKEAMQNGILAGY\\nPVVDVRVRLFDGSYHEVDSSDIAFQVAGSLAFKDAAKKADPVLLEPIMEVEVETPEKYVGDVIGDLNSRR\\nGKIMGMENKGVITVIKAHVPLAEMFGYATTLRSLTQGRGTFIMKFSHYDEVPQQIAEKIIGERMAGKSS\\n'"
      ]
     },
     "execution_count": 84,
     "metadata": {},
     "output_type": "execute_result"
    }
   ],
   "source": [
    "b[0]"
   ]
  },
  {
   "cell_type": "markdown",
   "metadata": {},
   "source": [
    "## 3.Write Query(query, parallel_num)"
   ]
  },
  {
   "cell_type": "code",
   "execution_count": 66,
   "metadata": {},
   "outputs": [],
   "source": [
    "def WriteQuery(query, parallel_num):\n",
    "    \n",
    "    try:\n",
    "        with open(\"./query\"+\"_\"+str(parallel_num)+\".csv\", \"w\") as write_query:\n",
    "            write_query.write(query)\n",
    "    except IOError as err:\n",
    "        print (\"IOError occurred in WriteQuery function : \" + str(err))"
   ]
  },
  {
   "cell_type": "code",
   "execution_count": 67,
   "metadata": {},
   "outputs": [],
   "source": [
    "WriteQuery(\"krish is from \",10)"
   ]
  },
  {
   "cell_type": "markdown",
   "metadata": {},
   "source": [
    "## 4. RunBlast( Subject , parallel_num)"
   ]
  },
  {
   "cell_type": "code",
   "execution_count": null,
   "metadata": {},
   "outputs": [],
   "source": []
  },
  {
   "cell_type": "code",
   "execution_count": 1,
   "metadata": {},
   "outputs": [
    {
     "name": "stdout",
     "output_type": "stream",
     "text": [
      "USAGE\n",
      "  blastp [-h] [-help] [-import_search_strategy filename]\n",
      "    [-export_search_strategy filename] [-task task_name] [-db database_name]\n",
      "    [-dbsize num_letters] [-gilist filename] [-seqidlist filename]\n",
      "    [-negative_gilist filename] [-negative_seqidlist filename]\n",
      "    [-taxids taxids] [-negative_taxids taxids] [-taxidlist filename]\n",
      "    [-negative_taxidlist filename] [-ipglist filename]\n",
      "    [-negative_ipglist filename] [-entrez_query entrez_query]\n",
      "    [-db_soft_mask filtering_algorithm] [-db_hard_mask filtering_algorithm]\n",
      "    [-subject subject_input_file] [-subject_loc range] [-query input_file]\n",
      "    [-out output_file] [-evalue evalue] [-word_size int_value]\n",
      "    [-gapopen open_penalty] [-gapextend extend_penalty]\n",
      "    [-qcov_hsp_perc float_value] [-max_hsps int_value]\n",
      "    [-xdrop_ungap float_value] [-xdrop_gap float_value]\n",
      "    [-xdrop_gap_final float_value] [-searchsp int_value] [-seg SEG_options]\n",
      "    [-soft_masking soft_masking] [-matrix matrix_name]\n",
      "    [-threshold float_value] [-culling_limit int_value]\n",
      "    [-best_hit_overhang float_value] [-best_hit_score_edge float_value]\n",
      "    [-subject_besthit] [-window_size int_value] [-lcase_masking]\n",
      "    [-query_loc range] [-parse_deflines] [-outfmt format] [-show_gis]\n",
      "    [-num_descriptions int_value] [-num_alignments int_value]\n",
      "    [-line_length line_length] [-html] [-sorthits sort_hits]\n",
      "    [-sorthsps sort_hsps] [-max_target_seqs num_sequences]\n",
      "    [-num_threads int_value] [-ungapped] [-remote] [-comp_based_stats compo]\n",
      "    [-use_sw_tback] [-version]\n",
      "\n",
      "DESCRIPTION\n",
      "   Protein-Protein BLAST 2.10.0+\n",
      "\n",
      "Use '-help' to print detailed descriptions of command line arguments\n"
     ]
    }
   ],
   "source": [
    "! blastp -h"
   ]
  },
  {
   "cell_type": "code",
   "execution_count": null,
   "metadata": {},
   "outputs": [],
   "source": []
  },
  {
   "cell_type": "code",
   "execution_count": null,
   "metadata": {},
   "outputs": [],
   "source": []
  },
  {
   "cell_type": "code",
   "execution_count": null,
   "metadata": {},
   "outputs": [],
   "source": []
  },
  {
   "cell_type": "code",
   "execution_count": null,
   "metadata": {},
   "outputs": [],
   "source": []
  },
  {
   "cell_type": "code",
   "execution_count": null,
   "metadata": {},
   "outputs": [],
   "source": []
  }
 ],
 "metadata": {
  "kernelspec": {
   "display_name": "Python 3",
   "language": "python",
   "name": "python3"
  },
  "language_info": {
   "codemirror_mode": {
    "name": "ipython",
    "version": 3
   },
   "file_extension": ".py",
   "mimetype": "text/x-python",
   "name": "python",
   "nbconvert_exporter": "python",
   "pygments_lexer": "ipython3",
   "version": "3.7.4"
  }
 },
 "nbformat": 4,
 "nbformat_minor": 2
}
