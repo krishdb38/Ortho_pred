{
 "cells": [
  {
   "cell_type": "code",
   "execution_count": 5,
   "metadata": {},
   "outputs": [],
   "source": [
    "import docx"
   ]
  },
  {
   "cell_type": "code",
   "execution_count": 1,
   "metadata": {},
   "outputs": [],
   "source": [
    "from docx import Document\n",
    "from docx.shared import Inches"
   ]
  },
  {
   "cell_type": "code",
   "execution_count": 2,
   "metadata": {},
   "outputs": [
    {
     "data": {
      "text/plain": [
       "<docx.text.paragraph.Paragraph at 0x19a1a77e4c8>"
      ]
     },
     "execution_count": 2,
     "metadata": {},
     "output_type": "execute_result"
    }
   ],
   "source": [
    "document = Document()\n",
    "document.add_heading(\"Document Title\",0)"
   ]
  },
  {
   "cell_type": "code",
   "execution_count": 4,
   "metadata": {},
   "outputs": [],
   "source": [
    "p = document.add_paragraph(\"A PLAIN PARAGRAPH HAVING SOME\")\n",
    "p.add_run(\"bold\").bold = True\n",
    "p.add_run(\"and some\").italic = True\n",
    "\n",
    "document.add_heading(\"Heading, level 1\",level =1)\n",
    "document.add_paragraph(\"Intense Quote\",style = \"Intense Quote\")\n",
    "document.add_paragraph(\"Intense quote\", style = \"Intense Quote\")\n",
    "\n",
    "document.add_paragraph(\n",
    "    \"first item in unordered list\", style = \"List Bullet\"\n",
    ")\n",
    "document.add_paragraph(\n",
    "\"first item in ordered list\",style = \"List Number\")\n",
    "document.add_picture(\"apple\",width=Inches(1.25))\n",
    "document.save(\"krish_py.docx\")"
   ]
  }
 ],
 "metadata": {
  "kernelspec": {
   "display_name": "Python 3",
   "language": "python",
   "name": "python3"
  },
  "language_info": {
   "codemirror_mode": {
    "name": "ipython",
    "version": 3
   },
   "file_extension": ".py",
   "mimetype": "text/x-python",
   "name": "python",
   "nbconvert_exporter": "python",
   "pygments_lexer": "ipython3",
   "version": "3.7.6"
  }
 },
 "nbformat": 4,
 "nbformat_minor": 4
}
