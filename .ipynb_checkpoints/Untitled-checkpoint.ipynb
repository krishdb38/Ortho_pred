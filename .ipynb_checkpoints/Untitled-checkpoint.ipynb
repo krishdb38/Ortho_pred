{
 "cells": [
  {
   "cell_type": "code",
   "execution_count": 86,
   "metadata": {},
   "outputs": [],
   "source": [
    "import os\n",
    "import pandas as pd\n",
    "import numpy as np\n",
    "import datetime\n",
    "from Bio import SeqIO"
   ]
  },
  {
   "cell_type": "markdown",
   "metadata": {},
   "source": [
    "###### Mode in owPReMark"
   ]
  },
  {
   "cell_type": "code",
   "execution_count": 103,
   "metadata": {
    "hide_input": false
   },
   "outputs": [
    {
     "name": "stdout",
     "output_type": "stream",
     "text": [
      "Select a Mode or Modes1 3\n",
      "select genomes to detect ortholog1 2 3 6\n"
     ]
    },
    {
     "ename": "AttributeError",
     "evalue": "'list' object has no attribute 'split'",
     "output_type": "error",
     "traceback": [
      "\u001b[1;31m---------------------------------------------------------------------------\u001b[0m",
      "\u001b[1;31mAttributeError\u001b[0m                            Traceback (most recent call last)",
      "\u001b[1;32m<ipython-input-103-aa3d51e3446f>\u001b[0m in \u001b[0;36m<module>\u001b[1;34m\u001b[0m\n\u001b[0;32m      2\u001b[0m \u001b[0mSELECTED_SPECIS_DIC\u001b[0m\u001b[1;33m,\u001b[0m \u001b[0mBACKWARD_SELECTED_SPECIES_DIC\u001b[0m\u001b[1;33m,\u001b[0m \u001b[0mNUMBER_I\u001b[0m \u001b[1;33m=\u001b[0m \u001b[0mread_species\u001b[0m\u001b[1;33m(\u001b[0m\u001b[1;33m)\u001b[0m\u001b[1;33m\u001b[0m\u001b[1;33m\u001b[0m\u001b[0m\n\u001b[0;32m      3\u001b[0m \u001b[0mselected_number\u001b[0m \u001b[1;33m=\u001b[0m \u001b[0minput\u001b[0m\u001b[1;33m(\u001b[0m\u001b[1;34m\"select genomes to detect ortholog\"\u001b[0m\u001b[1;33m)\u001b[0m\u001b[1;33m.\u001b[0m\u001b[0msplit\u001b[0m\u001b[1;33m(\u001b[0m\u001b[1;34m\" \"\u001b[0m\u001b[1;33m)\u001b[0m\u001b[1;33m\u001b[0m\u001b[1;33m\u001b[0m\u001b[0m\n\u001b[1;32m----> 4\u001b[1;33m \u001b[0muser_selected_number\u001b[0m \u001b[1;33m=\u001b[0m \u001b[0msorted\u001b[0m\u001b[1;33m(\u001b[0m\u001b[0mset\u001b[0m\u001b[1;33m(\u001b[0m\u001b[1;33m[\u001b[0m\u001b[0mint\u001b[0m\u001b[1;33m(\u001b[0m\u001b[0mi\u001b[0m\u001b[1;33m)\u001b[0m \u001b[1;32mfor\u001b[0m \u001b[0mi\u001b[0m \u001b[1;32min\u001b[0m \u001b[0mselected_number\u001b[0m\u001b[1;33m.\u001b[0m\u001b[0msplit\u001b[0m\u001b[1;33m(\u001b[0m\u001b[1;33m)\u001b[0m\u001b[1;33m]\u001b[0m\u001b[1;33m)\u001b[0m\u001b[1;33m)\u001b[0m\u001b[1;33m\u001b[0m\u001b[1;33m\u001b[0m\u001b[0m\n\u001b[0m\u001b[0;32m      5\u001b[0m \u001b[0mblast_matrix\u001b[0m \u001b[1;33m=\u001b[0m \u001b[0mmatrix_name\u001b[0m\u001b[1;33m(\u001b[0m\u001b[1;33m)\u001b[0m\u001b[1;33m\u001b[0m\u001b[1;33m\u001b[0m\u001b[0m\n\u001b[0;32m      6\u001b[0m \u001b[0mcpu_count\u001b[0m \u001b[1;33m=\u001b[0m \u001b[1;33m(\u001b[0m\u001b[0mint\u001b[0m\u001b[1;33m(\u001b[0m\u001b[0minput\u001b[0m\u001b[1;33m(\u001b[0m\u001b[1;34m\"Number of CPU want to use\"\u001b[0m\u001b[1;33m)\u001b[0m\u001b[1;33m)\u001b[0m\u001b[1;33m)\u001b[0m\u001b[1;33m\u001b[0m\u001b[1;33m\u001b[0m\u001b[0m\n",
      "\u001b[1;31mAttributeError\u001b[0m: 'list' object has no attribute 'split'"
     ]
    }
   ],
   "source": [
    "mode = input(\"Select a Mode or Modes\").split(\" \")\n",
    "SELECTED_SPECIS_DIC, BACKWARD_SELECTED_SPECIES_DIC, NUMBER_I = read_species()\n",
    "selected_number = input(\"select genomes to detect ortholog\").split(\" \")\n",
    "selected_number = sorted(set([int(i) for i in selected_number]))\n",
    "blast_matrix = matrix_name()\n",
    "cpu_count = (int(input(\"Number of CPU want to use\")))\n",
    "SPECIES = \"./species/\"\n",
    "BLASTP = \"blastp\"\n",
    "BLASTP_DATA  = \"./blastp_data/\"\n",
    "save_raw_blastp_score = \"./save_raw_blastp_score/\"\n",
    "threshold_score = 1.5 # Default\n",
    "verbose = True\n",
    "log_time = datetime.datetime.now().strftime(\"_%Y%m_%d_%H_%M_%S\")\n",
    "CLUSTER_OUT = \"result\""
   ]
  },
  {
   "cell_type": "markdown",
   "metadata": {
    "hide_input": false
   },
   "source": [
    "###### If mode 3 selected\n",
    "This will create a seprate log file inside folder \"cluster_out\""
   ]
  },
  {
   "cell_type": "code",
   "execution_count": 21,
   "metadata": {},
   "outputs": [],
   "source": [
    "#inflation_factor \n",
    "#Cluster_out --> is the name of clustering output\n",
    "if \"3\" in mode:\n",
    "    print(\"3 selected\")\n",
    "    inflation_factor = 1.4\n",
    "    Log_file_name = \"./cluster_out/\" + CLUSTER_OUT +\"_S\"\\\n",
    "        + str(threshold_score)+ \"_\"+ str(inflation_factor)+ log_time + \"_log.txt\"\n",
    "\n",
    "if \"1\" in mode:\n",
    "    backward_best_hit_work_list = oneway_threshold_best_hit(mode)\n",
    "    "
   ]
  },
  {
   "cell_type": "code",
   "execution_count": 101,
   "metadata": {
    "scrolled": true
   },
   "outputs": [
    {
     "name": "stdout",
     "output_type": "stream",
     "text": [
      "CAC\n",
      "175\n",
      "1\n",
      " \n",
      "1\n",
      " \n",
      "1\n"
     ]
    },
    {
     "ename": "ValueError",
     "evalue": "invalid literal for int() with base 10: ' '",
     "output_type": "error",
     "traceback": [
      "\u001b[1;31m---------------------------------------------------------------------------\u001b[0m",
      "\u001b[1;31mValueError\u001b[0m                                Traceback (most recent call last)",
      "\u001b[1;32m<ipython-input-101-53cc1f837398>\u001b[0m in \u001b[0;36m<module>\u001b[1;34m\u001b[0m\n\u001b[0;32m      4\u001b[0m \u001b[1;32mif\u001b[0m \u001b[1;34m\"1\"\u001b[0m \u001b[1;32min\u001b[0m \u001b[0mmode\u001b[0m\u001b[1;33m:\u001b[0m\u001b[1;33m\u001b[0m\u001b[1;33m\u001b[0m\u001b[0m\n\u001b[0;32m      5\u001b[0m     \u001b[1;32mfor\u001b[0m \u001b[0mi\u001b[0m \u001b[1;32min\u001b[0m \u001b[0mselected_number\u001b[0m\u001b[1;33m:\u001b[0m\u001b[1;33m\u001b[0m\u001b[1;33m\u001b[0m\u001b[0m\n\u001b[1;32m----> 6\u001b[1;33m         \u001b[0mprint\u001b[0m\u001b[1;33m(\u001b[0m\u001b[0mSELECTED_SPECIS_DIC\u001b[0m\u001b[1;33m[\u001b[0m\u001b[0mint\u001b[0m\u001b[1;33m(\u001b[0m\u001b[0mi\u001b[0m\u001b[1;33m)\u001b[0m\u001b[1;33m]\u001b[0m\u001b[1;33m)\u001b[0m\u001b[1;33m\u001b[0m\u001b[1;33m\u001b[0m\u001b[0m\n\u001b[0m\u001b[0;32m      7\u001b[0m         \u001b[0mquery_v\u001b[0m \u001b[1;33m=\u001b[0m \u001b[0mquery_sequence\u001b[0m\u001b[1;33m(\u001b[0m\u001b[0mSELECTED_SPECIS_DIC\u001b[0m\u001b[1;33m[\u001b[0m\u001b[0mint\u001b[0m\u001b[1;33m(\u001b[0m\u001b[0mi\u001b[0m\u001b[1;33m)\u001b[0m\u001b[1;33m]\u001b[0m\u001b[1;33m)\u001b[0m\u001b[1;33m\u001b[0m\u001b[1;33m\u001b[0m\u001b[0m\n\u001b[0;32m      8\u001b[0m         \u001b[0mprint\u001b[0m\u001b[1;33m(\u001b[0m\u001b[0mlen\u001b[0m\u001b[1;33m(\u001b[0m\u001b[0mquery_v\u001b[0m\u001b[1;33m)\u001b[0m\u001b[1;33m)\u001b[0m\u001b[1;33m\u001b[0m\u001b[1;33m\u001b[0m\u001b[0m\n",
      "\u001b[1;31mValueError\u001b[0m: invalid literal for int() with base 10: ' '"
     ]
    }
   ],
   "source": [
    "b_info = \"Running the blastp & Forward best_hit\"\n",
    "process_list = []\n",
    "backward_best_hit_work_list = []\n",
    "if \"1\" in mode:\n",
    "    for i in selected_number:\n",
    "        print(SELECTED_SPECIS_DIC[int(i)])\n",
    "        query_v = query_sequence(SELECTED_SPECIS_DIC[int(i)])\n",
    "        print(len(query_v))\n",
    "        for k in selected_number:\n",
    "            if k<i:\n",
    "                print(k)\n",
    "                continue\n",
    "            else:\n",
    "                print(i)"
   ]
  },
  {
   "cell_type": "code",
   "execution_count": 102,
   "metadata": {},
   "outputs": [
    {
     "data": {
      "text/plain": [
       "'1 2 3'"
      ]
     },
     "execution_count": 102,
     "metadata": {},
     "output_type": "execute_result"
    }
   ],
   "source": [
    "#SELECTED_SPECIS_DIC[1]\n",
    "selected_number"
   ]
  },
  {
   "cell_type": "markdown",
   "metadata": {},
   "source": [
    "###### 1. read_species(1)"
   ]
  },
  {
   "cell_type": "code",
   "execution_count": null,
   "metadata": {
    "code_folding": [
     0
    ]
   },
   "outputs": [],
   "source": [
    "def read_species(pr =0):\n",
    "    read_species_ = os.listdir(\"./species/\")\n",
    "    selected_species_dic = {}\n",
    "    backward_selected_species_dic = {}\n",
    "    \n",
    "    for i , species in enumerate(sorted(read_species_)):\n",
    "        selected_species_dic[i] = species\n",
    "        backward_selected_species_dic[species] = i\n",
    "        if pr == 1:\n",
    "            print(i, species)\n",
    "        number  = i\n",
    "    return selected_species_dic, backward_selected_species_dic,number"
   ]
  },
  {
   "cell_type": "markdown",
   "metadata": {},
   "source": [
    "###### blastp_Matrix()"
   ]
  },
  {
   "cell_type": "code",
   "execution_count": 3,
   "metadata": {
    "code_folding": [
     0
    ]
   },
   "outputs": [],
   "source": [
    "def matrix_name():\n",
    "    matrix_num = int(input(\"\\nEnter a matrix name\\t\"))\n",
    "    matrix_ = {1:\"BLOSUM45\",2:\"BLOSUM62\",3:\"BLOSUM80\"}\n",
    "    if matrix_num in (1,2,3):\n",
    "        print(matrix_[matrix_num],\"Matrix selected\")\n",
    "        return matrix_[matrix_num]\n",
    "    else:\n",
    "        print(\"Wrong Matrix Selection\")\n",
    "    "
   ]
  },
  {
   "cell_type": "markdown",
   "metadata": {},
   "source": [
    "###### oneway_threshold_best_hit(mode)"
   ]
  },
  {
   "cell_type": "markdown",
   "metadata": {},
   "source": [
    "##### 6. query_sequence(SELECTED_SPECIES_DIC[i])"
   ]
  },
  {
   "cell_type": "code",
   "execution_count": 58,
   "metadata": {
    "code_folding": [
     0
    ]
   },
   "outputs": [],
   "source": [
    "def query_sequence_(genome):\n",
    "    \"\"\"\n",
    "    This Function Read Fastaq Files and return as a list Format with gene Position as a index\n",
    "    This Function create a list of Seprate Query Sequence\n",
    "    # !! This Function can also be calculated busing Bio Python but some error rise !!\n",
    "    \"\"\"\n",
    "    gene_seq = \"\"\n",
    "    gene_seq_list = []  # container to  store gene id with seq\n",
    "    try:\n",
    "        with open(SPECIES+genome) as gene:\n",
    "            # open genome file like AAE HIN\n",
    "            for each_line in gene:\n",
    "                if \">\" in each_line and gene_seq != \"\":\n",
    "                    # starting with \">\" and not overlap\n",
    "                    gene_seq_list.append(gene_seq)\n",
    "                    # added gene name to the first and gene_seq will blank\n",
    "                    gene_seq = \"\"\n",
    "                gene_seq = gene_seq+each_line\n",
    "                # add each line of seq till \">\" not found\n",
    "            gene_seq_list.append(gene_seq) # This willl add last index gene \n",
    "            return gene_seq_list\n",
    "    except IOError as err:\n",
    "        print(\"IOError occurred in query_sequence function : \" + str(err))"
   ]
  },
  {
   "cell_type": "code",
   "execution_count": 84,
   "metadata": {},
   "outputs": [],
   "source": [
    "def query_seq_(genome):\n",
    "    \"\"\"This Function Read Fasta (Genome) file and return as a list Format with gene Position and Sequence Developed by Krish\"\"\"\n",
    "    genome = \"./species/\"+genome\n",
    "    try:\n",
    "        return [(seq_record.id+\"\\n\"+str(seq_record.seq)) for seq_record in SeqIO.parse(genome, \"fasta\")]\n",
    "        # To understand this Function Bio Python library needs to be studied\n",
    "    except IOError as err:\n",
    "        print(str(err))"
   ]
  },
  {
   "cell_type": "code",
   "execution_count": null,
   "metadata": {},
   "outputs": [],
   "source": [
    "! blastp -query"
   ]
  }
 ],
 "metadata": {
  "hide_input": false,
  "kernelspec": {
   "display_name": "Python 3",
   "language": "python",
   "name": "python3"
  },
  "nbTranslate": {
   "displayLangs": [
    "*"
   ],
   "hotkey": "alt-t",
   "langInMainMenu": true,
   "sourceLang": "en",
   "targetLang": "fr",
   "useGoogleTranslate": true
  },
  "toc": {
   "base_numbering": 1,
   "nav_menu": {},
   "number_sections": true,
   "sideBar": true,
   "skip_h1_title": false,
   "title_cell": "Table of Contents",
   "title_sidebar": "Contents",
   "toc_cell": false,
   "toc_position": {},
   "toc_section_display": true,
   "toc_window_display": false
  },
  "varInspector": {
   "cols": {
    "lenName": 16,
    "lenType": 16,
    "lenVar": 40
   },
   "kernels_config": {
    "python": {
     "delete_cmd_postfix": "",
     "delete_cmd_prefix": "del ",
     "library": "var_list.py",
     "varRefreshCmd": "print(var_dic_list())"
    },
    "r": {
     "delete_cmd_postfix": ") ",
     "delete_cmd_prefix": "rm(",
     "library": "var_list.r",
     "varRefreshCmd": "cat(var_dic_list()) "
    }
   },
   "types_to_exclude": [
    "module",
    "function",
    "builtin_function_or_method",
    "instance",
    "_Feature"
   ],
   "window_display": false
  }
 },
 "nbformat": 4,
 "nbformat_minor": 4
}
