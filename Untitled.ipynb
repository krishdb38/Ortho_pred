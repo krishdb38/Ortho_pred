{
 "cells": [
  {
   "cell_type": "code",
   "execution_count": 56,
   "metadata": {},
   "outputs": [],
   "source": [
    "import os\n",
    "import pandas as pd\n",
    "import numpy as np\n",
    "import datetime\n",
    "from Bio import SeqIO\n",
    "import time\n",
    "import subprocess"
   ]
  },
  {
   "cell_type": "markdown",
   "metadata": {},
   "source": [
    "###### Mode in owPReMark"
   ]
  },
  {
   "cell_type": "code",
   "execution_count": 8,
   "metadata": {
    "hide_input": false
   },
   "outputs": [
    {
     "name": "stdout",
     "output_type": "stream",
     "text": [
      "Select a Mode or Modes1 3\n",
      "select genomes to detect ortholog1 2\n",
      "\n",
      "Enter a matrix name\t1\n",
      "BLOSUM45 Matrix selected\n",
      "Number of CPU want to use1\n"
     ]
    }
   ],
   "source": [
    "mode = input(\"Select a Mode or Modes\").split(\" \")\n",
    "SELECTED_SPECIS_DIC, BACKWARD_SELECTED_SPECIES_DIC, NUMBER_I = read_species()\n",
    "selected_number = input(\"select genomes to detect ortholog\").split(\" \")\n",
    "selected_number = sorted(set([int(i) for i in selected_number]))\n",
    "blast_matrix = matrix_name()\n",
    "cpu_count = (int(input(\"Number of CPU want to use\")))\n",
    "SPECIES = \"./species/\"\n",
    "BLASTP = \"blastp\"\n",
    "BLASTP_DATA  = \"./blastp_data/\"\n",
    "save_raw_blastp_score = \"./save_raw_blastp_score/\"\n",
    "threshold_score = 1.5 # Default\n",
    "verbose = True\n",
    "log_time = datetime.datetime.now().strftime(\"_%Y%m_%d_%H_%M_%S\")\n",
    "CLUSTER_OUT = \"result\""
   ]
  },
  {
   "cell_type": "markdown",
   "metadata": {
    "hide_input": false
   },
   "source": [
    "###### If mode 3 selected\n",
    "This will create a seprate log file inside folder \"cluster_out\""
   ]
  },
  {
   "cell_type": "code",
   "execution_count": null,
   "metadata": {},
   "outputs": [],
   "source": [
    "#inflation_factor \n",
    "#Cluster_out --> is the name of clustering output\n",
    "if \"3\" in mode:\n",
    "    print(\"3 selected\")\n",
    "    inflation_factor = 1.4\n",
    "    Log_file_name = \"./cluster_out/\" + CLUSTER_OUT +\"_S\"\\\n",
    "        + str(threshold_score)+ \"_\"+ str(inflation_factor)+ log_time + \"_log.txt\"\n",
    "\n",
    "if \"1\" in mode:\n",
    "    backward_best_hit_work_list = oneway_threshold_best_hit(mode)\n",
    "    "
   ]
  },
  {
   "cell_type": "code",
   "execution_count": 32,
   "metadata": {},
   "outputs": [
    {
     "name": "stdout",
     "output_type": "stream",
     "text": [
      "[1, 2, 3, 4, 5]\n"
     ]
    },
    {
     "data": {
      "text/plain": [
       "('CAC', 'ECO', 'ECU', 'HIN', 'LLA')"
      ]
     },
     "execution_count": 32,
     "metadata": {},
     "output_type": "execute_result"
    }
   ],
   "source": [
    "print(selected_number)\n",
    "SELECTED_SPECIS_DIC[1],SELECTED_SPECIS_DIC[2],SELECTED_SPECIS_DIC[3],SELECTED_SPECIS_DIC[4],SELECTED_SPECIS_DIC[5]\n",
    "#SELECTED_SPECIS_DIC"
   ]
  },
  {
   "cell_type": "code",
   "execution_count": 41,
   "metadata": {
    "lang": "en"
   },
   "outputs": [
    {
     "name": "stdout",
     "output_type": "stream",
     "text": [
      "1 Running the blastp & Forward best_hitbetween CAC genome and CAC genome\n",
      "Print Total time consumed is  2.0011050701141357\n",
      "1 Running the blastp & Forward best_hitbetween CAC genome and ECO genome\n",
      "Print Total time consumed is  2.0093905925750732\n",
      "2 Running the blastp & Forward best_hitbetween ECO genome and ECO genome\n",
      "Print Total time consumed is  2.0002715587615967\n"
     ]
    }
   ],
   "source": [
    "b_info = \"Running the blastp & Forward best_hit\"\n",
    "process_list = []\n",
    "backward_best_hit_work_list = []\n",
    "selected_number  = [1,2]\n",
    "if \"1\" in mode:\n",
    "    for i in selected_number:\n",
    "        #print(SELECTED_SPECIS_DIC[int(i)])\n",
    "        query_v = query_sequence(SELECTED_SPECIS_DIC[int(i)])\n",
    "        for k in selected_number:\n",
    "            if k>=i:\n",
    "                print(i,b_info + \"between %s genome and %s genome\"%(SELECTED_SPECIS_DIC[i],SELECTED_SPECIS_DIC[k]))\n",
    "                query_v_len = len(query_v)\n",
    "                #print(query_v_len)\n",
    "                if cpu_count == 1:\n",
    "                    blastp_time_start =  time.time()\n",
    "                    #run_parallel_query(i,k,query_v,cpu_count)\n",
    "                    time.sleep(2)\n",
    "                    blastp_time_end = time.time()\n",
    "                    print(\"Print Total time consumed is \", blastp_time_end-blastp_time_start)\n",
    "                "
   ]
  },
  {
   "cell_type": "code",
   "execution_count": 18,
   "metadata": {},
   "outputs": [
    {
     "data": {
      "text/plain": [
       "1"
      ]
     },
     "execution_count": 18,
     "metadata": {},
     "output_type": "execute_result"
    }
   ],
   "source": [
    "cpu_count"
   ]
  },
  {
   "cell_type": "markdown",
   "metadata": {},
   "source": [
    "###### 1. read_species(1)"
   ]
  },
  {
   "cell_type": "code",
   "execution_count": 3,
   "metadata": {
    "code_folding": []
   },
   "outputs": [],
   "source": [
    "def read_species(pr =0):\n",
    "    read_species_ = os.listdir(\"./species/\")\n",
    "    selected_species_dic = {}\n",
    "    backward_selected_species_dic = {}\n",
    "    \n",
    "    for i , species in enumerate(sorted(read_species_)):\n",
    "        selected_species_dic[i] = species\n",
    "        backward_selected_species_dic[species] = i\n",
    "        if pr == 1:\n",
    "            print(i, species)\n",
    "        number  = i\n",
    "    return selected_species_dic, backward_selected_species_dic,number"
   ]
  },
  {
   "cell_type": "markdown",
   "metadata": {},
   "source": [
    "###### blastp_Matrix()"
   ]
  },
  {
   "cell_type": "code",
   "execution_count": 4,
   "metadata": {
    "code_folding": [
     0
    ]
   },
   "outputs": [],
   "source": [
    "def matrix_name():\n",
    "    matrix_num = int(input(\"\\nEnter a matrix name\\t\"))\n",
    "    matrix_ = {1:\"BLOSUM45\",2:\"BLOSUM62\",3:\"BLOSUM80\"}\n",
    "    if matrix_num in (1,2,3):\n",
    "        print(matrix_[matrix_num],\"Matrix selected\")\n",
    "        return matrix_[matrix_num]\n",
    "    else:\n",
    "        print(\"Wrong Matrix Selection\")\n",
    "    "
   ]
  },
  {
   "cell_type": "markdown",
   "metadata": {},
   "source": [
    "###### oneway_threshold_best_hit(mode)"
   ]
  },
  {
   "cell_type": "markdown",
   "metadata": {},
   "source": [
    "##### 6. query_sequence(SELECTED_SPECIES_DIC[i])"
   ]
  },
  {
   "cell_type": "code",
   "execution_count": 14,
   "metadata": {
    "code_folding": []
   },
   "outputs": [],
   "source": [
    "def query_sequence(genome):\n",
    "    \"\"\"\n",
    "    This Function Read Fastaq Files and return as a list Format with gene Position as a index\n",
    "    This Function create a list of Seprate Query Sequence\n",
    "    # !! This Function can also be calculated busing Bio Python but some error rise !!\n",
    "    \"\"\"\n",
    "    gene_seq = \"\"\n",
    "    gene_seq_list = []  # container to  store gene id with seq\n",
    "    try:\n",
    "        with open(SPECIES+genome) as gene:\n",
    "            # open genome file like AAE HIN\n",
    "            for each_line in gene:\n",
    "                if \">\" in each_line and gene_seq != \"\":\n",
    "                    # starting with \">\" and not overlap\n",
    "                    gene_seq_list.append(gene_seq)\n",
    "                    # added gene name to the first and gene_seq will blank\n",
    "                    gene_seq = \"\"\n",
    "                gene_seq = gene_seq+each_line\n",
    "                # add each line of seq till \">\" not found\n",
    "            gene_seq_list.append(gene_seq) # This willl add last index gene \n",
    "            return gene_seq_list\n",
    "    except IOError as err:\n",
    "        print(\"IOError occurred in query_sequence function : \" + str(err))"
   ]
  },
  {
   "cell_type": "code",
   "execution_count": 13,
   "metadata": {},
   "outputs": [],
   "source": [
    "def query_seq_(genome):\n",
    "    \"\"\"This Function Read Fasta (Genome) file and return as a list Format with gene Position and Sequence Developed by Krish\"\"\"\n",
    "    genome = \"./species/\"+genome\n",
    "    try:\n",
    "        return [(seq_record.id+\"\\n\"+str(seq_record.seq)) for seq_record in SeqIO.parse(genome, \"fasta\")]\n",
    "        # To understand this Function Bio Python library needs to be studied\n",
    "    except IOError as err:\n",
    "        print(str(err))"
   ]
  },
  {
   "cell_type": "markdown",
   "metadata": {},
   "source": [
    "##### Run_Parallel_query(species_of_query, species_of_subject, query_V, parallel_num)"
   ]
  },
  {
   "cell_type": "code",
   "execution_count": 63,
   "metadata": {},
   "outputs": [
    {
     "ename": "KeyboardInterrupt",
     "evalue": "",
     "output_type": "error",
     "traceback": [
      "\u001b[1;31m---------------------------------------------------------------------------\u001b[0m",
      "\u001b[1;31mKeyboardInterrupt\u001b[0m                         Traceback (most recent call last)",
      "\u001b[1;32m<ipython-input-63-3fd01a3639ca>\u001b[0m in \u001b[0;36m<module>\u001b[1;34m\u001b[0m\n\u001b[0;32m      4\u001b[0m     \u001b[1;31m#print(j)\u001b[0m\u001b[1;33m\u001b[0m\u001b[1;33m\u001b[0m\u001b[1;33m\u001b[0m\u001b[0m\n\u001b[0;32m      5\u001b[0m     \u001b[0mwrite_query\u001b[0m\u001b[1;33m(\u001b[0m\u001b[0mj\u001b[0m\u001b[1;33m,\u001b[0m\u001b[0mparallel_num\u001b[0m\u001b[1;33m)\u001b[0m\u001b[1;33m\u001b[0m\u001b[1;33m\u001b[0m\u001b[0m\n\u001b[1;32m----> 6\u001b[1;33m     \u001b[0mblastp_score\u001b[0m \u001b[1;33m=\u001b[0m \u001b[0mrun_blast\u001b[0m\u001b[1;33m(\u001b[0m\u001b[0mSELECTED_SPECIS_DIC\u001b[0m\u001b[1;33m[\u001b[0m\u001b[0mspecies_of_subject\u001b[0m\u001b[1;33m]\u001b[0m\u001b[1;33m,\u001b[0m\u001b[0mparallel_num\u001b[0m\u001b[1;33m)\u001b[0m\u001b[1;33m\u001b[0m\u001b[1;33m\u001b[0m\u001b[0m\n\u001b[0m",
      "\u001b[1;32m<ipython-input-61-fb13690a11f3>\u001b[0m in \u001b[0;36mrun_blast\u001b[1;34m(subject, parallel_num)\u001b[0m\n\u001b[0;32m      3\u001b[0m     cmd = [\"blastp\",\"-query\",\"./query/query_\"+str(parallel_num),\"-subject\",subject,\\\n\u001b[0;32m      4\u001b[0m            \"-matrix\",blast_matrix,\"-outfmt\",\"10 qseqid sseqid score length\"]\n\u001b[1;32m----> 5\u001b[1;33m     \u001b[0mrun_blastp\u001b[0m \u001b[1;33m=\u001b[0m \u001b[0msubprocess\u001b[0m\u001b[1;33m.\u001b[0m\u001b[0mrun\u001b[0m\u001b[1;33m(\u001b[0m\u001b[0mcmd\u001b[0m\u001b[1;33m,\u001b[0m\u001b[0mcapture_output\u001b[0m \u001b[1;33m=\u001b[0m \u001b[1;32mTrue\u001b[0m \u001b[1;33m,\u001b[0m \u001b[0mtext\u001b[0m \u001b[1;33m=\u001b[0m \u001b[1;32mTrue\u001b[0m\u001b[1;33m)\u001b[0m\u001b[1;33m\u001b[0m\u001b[1;33m\u001b[0m\u001b[0m\n\u001b[0m\u001b[0;32m      6\u001b[0m     \u001b[1;32mif\u001b[0m \u001b[0mrun_blastp\u001b[0m\u001b[1;33m.\u001b[0m\u001b[0mstderr\u001b[0m\u001b[1;33m:\u001b[0m\u001b[1;33m\u001b[0m\u001b[1;33m\u001b[0m\u001b[0m\n\u001b[0;32m      7\u001b[0m         \u001b[0mprint\u001b[0m\u001b[1;33m(\u001b[0m\u001b[0mrun_blastp\u001b[0m\u001b[1;33m.\u001b[0m\u001b[0mstderr\u001b[0m\u001b[1;33m)\u001b[0m\u001b[1;33m\u001b[0m\u001b[1;33m\u001b[0m\u001b[0m\n",
      "\u001b[1;32m~\\anaconda3\\lib\\subprocess.py\u001b[0m in \u001b[0;36mrun\u001b[1;34m(input, capture_output, timeout, check, *popenargs, **kwargs)\u001b[0m\n\u001b[0;32m    488\u001b[0m     \u001b[1;32mwith\u001b[0m \u001b[0mPopen\u001b[0m\u001b[1;33m(\u001b[0m\u001b[1;33m*\u001b[0m\u001b[0mpopenargs\u001b[0m\u001b[1;33m,\u001b[0m \u001b[1;33m**\u001b[0m\u001b[0mkwargs\u001b[0m\u001b[1;33m)\u001b[0m \u001b[1;32mas\u001b[0m \u001b[0mprocess\u001b[0m\u001b[1;33m:\u001b[0m\u001b[1;33m\u001b[0m\u001b[1;33m\u001b[0m\u001b[0m\n\u001b[0;32m    489\u001b[0m         \u001b[1;32mtry\u001b[0m\u001b[1;33m:\u001b[0m\u001b[1;33m\u001b[0m\u001b[1;33m\u001b[0m\u001b[0m\n\u001b[1;32m--> 490\u001b[1;33m             \u001b[0mstdout\u001b[0m\u001b[1;33m,\u001b[0m \u001b[0mstderr\u001b[0m \u001b[1;33m=\u001b[0m \u001b[0mprocess\u001b[0m\u001b[1;33m.\u001b[0m\u001b[0mcommunicate\u001b[0m\u001b[1;33m(\u001b[0m\u001b[0minput\u001b[0m\u001b[1;33m,\u001b[0m \u001b[0mtimeout\u001b[0m\u001b[1;33m=\u001b[0m\u001b[0mtimeout\u001b[0m\u001b[1;33m)\u001b[0m\u001b[1;33m\u001b[0m\u001b[1;33m\u001b[0m\u001b[0m\n\u001b[0m\u001b[0;32m    491\u001b[0m         \u001b[1;32mexcept\u001b[0m \u001b[0mTimeoutExpired\u001b[0m \u001b[1;32mas\u001b[0m \u001b[0mexc\u001b[0m\u001b[1;33m:\u001b[0m\u001b[1;33m\u001b[0m\u001b[1;33m\u001b[0m\u001b[0m\n\u001b[0;32m    492\u001b[0m             \u001b[0mprocess\u001b[0m\u001b[1;33m.\u001b[0m\u001b[0mkill\u001b[0m\u001b[1;33m(\u001b[0m\u001b[1;33m)\u001b[0m\u001b[1;33m\u001b[0m\u001b[1;33m\u001b[0m\u001b[0m\n",
      "\u001b[1;32m~\\anaconda3\\lib\\subprocess.py\u001b[0m in \u001b[0;36mcommunicate\u001b[1;34m(self, input, timeout)\u001b[0m\n\u001b[0;32m    962\u001b[0m \u001b[1;33m\u001b[0m\u001b[0m\n\u001b[0;32m    963\u001b[0m             \u001b[1;32mtry\u001b[0m\u001b[1;33m:\u001b[0m\u001b[1;33m\u001b[0m\u001b[1;33m\u001b[0m\u001b[0m\n\u001b[1;32m--> 964\u001b[1;33m                 \u001b[0mstdout\u001b[0m\u001b[1;33m,\u001b[0m \u001b[0mstderr\u001b[0m \u001b[1;33m=\u001b[0m \u001b[0mself\u001b[0m\u001b[1;33m.\u001b[0m\u001b[0m_communicate\u001b[0m\u001b[1;33m(\u001b[0m\u001b[0minput\u001b[0m\u001b[1;33m,\u001b[0m \u001b[0mendtime\u001b[0m\u001b[1;33m,\u001b[0m \u001b[0mtimeout\u001b[0m\u001b[1;33m)\u001b[0m\u001b[1;33m\u001b[0m\u001b[1;33m\u001b[0m\u001b[0m\n\u001b[0m\u001b[0;32m    965\u001b[0m             \u001b[1;32mexcept\u001b[0m \u001b[0mKeyboardInterrupt\u001b[0m\u001b[1;33m:\u001b[0m\u001b[1;33m\u001b[0m\u001b[1;33m\u001b[0m\u001b[0m\n\u001b[0;32m    966\u001b[0m                 \u001b[1;31m# https://bugs.python.org/issue25942\u001b[0m\u001b[1;33m\u001b[0m\u001b[1;33m\u001b[0m\u001b[1;33m\u001b[0m\u001b[0m\n",
      "\u001b[1;32m~\\anaconda3\\lib\\subprocess.py\u001b[0m in \u001b[0;36m_communicate\u001b[1;34m(self, input, endtime, orig_timeout)\u001b[0m\n\u001b[0;32m   1294\u001b[0m             \u001b[1;31m# calls communicate again.\u001b[0m\u001b[1;33m\u001b[0m\u001b[1;33m\u001b[0m\u001b[1;33m\u001b[0m\u001b[0m\n\u001b[0;32m   1295\u001b[0m             \u001b[1;32mif\u001b[0m \u001b[0mself\u001b[0m\u001b[1;33m.\u001b[0m\u001b[0mstdout\u001b[0m \u001b[1;32mis\u001b[0m \u001b[1;32mnot\u001b[0m \u001b[1;32mNone\u001b[0m\u001b[1;33m:\u001b[0m\u001b[1;33m\u001b[0m\u001b[1;33m\u001b[0m\u001b[0m\n\u001b[1;32m-> 1296\u001b[1;33m                 \u001b[0mself\u001b[0m\u001b[1;33m.\u001b[0m\u001b[0mstdout_thread\u001b[0m\u001b[1;33m.\u001b[0m\u001b[0mjoin\u001b[0m\u001b[1;33m(\u001b[0m\u001b[0mself\u001b[0m\u001b[1;33m.\u001b[0m\u001b[0m_remaining_time\u001b[0m\u001b[1;33m(\u001b[0m\u001b[0mendtime\u001b[0m\u001b[1;33m)\u001b[0m\u001b[1;33m)\u001b[0m\u001b[1;33m\u001b[0m\u001b[1;33m\u001b[0m\u001b[0m\n\u001b[0m\u001b[0;32m   1297\u001b[0m                 \u001b[1;32mif\u001b[0m \u001b[0mself\u001b[0m\u001b[1;33m.\u001b[0m\u001b[0mstdout_thread\u001b[0m\u001b[1;33m.\u001b[0m\u001b[0mis_alive\u001b[0m\u001b[1;33m(\u001b[0m\u001b[1;33m)\u001b[0m\u001b[1;33m:\u001b[0m\u001b[1;33m\u001b[0m\u001b[1;33m\u001b[0m\u001b[0m\n\u001b[0;32m   1298\u001b[0m                     \u001b[1;32mraise\u001b[0m \u001b[0mTimeoutExpired\u001b[0m\u001b[1;33m(\u001b[0m\u001b[0mself\u001b[0m\u001b[1;33m.\u001b[0m\u001b[0margs\u001b[0m\u001b[1;33m,\u001b[0m \u001b[0morig_timeout\u001b[0m\u001b[1;33m)\u001b[0m\u001b[1;33m\u001b[0m\u001b[1;33m\u001b[0m\u001b[0m\n",
      "\u001b[1;32m~\\anaconda3\\lib\\threading.py\u001b[0m in \u001b[0;36mjoin\u001b[1;34m(self, timeout)\u001b[0m\n\u001b[0;32m   1042\u001b[0m \u001b[1;33m\u001b[0m\u001b[0m\n\u001b[0;32m   1043\u001b[0m         \u001b[1;32mif\u001b[0m \u001b[0mtimeout\u001b[0m \u001b[1;32mis\u001b[0m \u001b[1;32mNone\u001b[0m\u001b[1;33m:\u001b[0m\u001b[1;33m\u001b[0m\u001b[1;33m\u001b[0m\u001b[0m\n\u001b[1;32m-> 1044\u001b[1;33m             \u001b[0mself\u001b[0m\u001b[1;33m.\u001b[0m\u001b[0m_wait_for_tstate_lock\u001b[0m\u001b[1;33m(\u001b[0m\u001b[1;33m)\u001b[0m\u001b[1;33m\u001b[0m\u001b[1;33m\u001b[0m\u001b[0m\n\u001b[0m\u001b[0;32m   1045\u001b[0m         \u001b[1;32melse\u001b[0m\u001b[1;33m:\u001b[0m\u001b[1;33m\u001b[0m\u001b[1;33m\u001b[0m\u001b[0m\n\u001b[0;32m   1046\u001b[0m             \u001b[1;31m# the behavior of a negative timeout isn't documented, but\u001b[0m\u001b[1;33m\u001b[0m\u001b[1;33m\u001b[0m\u001b[1;33m\u001b[0m\u001b[0m\n",
      "\u001b[1;32m~\\anaconda3\\lib\\threading.py\u001b[0m in \u001b[0;36m_wait_for_tstate_lock\u001b[1;34m(self, block, timeout)\u001b[0m\n\u001b[0;32m   1058\u001b[0m         \u001b[1;32mif\u001b[0m \u001b[0mlock\u001b[0m \u001b[1;32mis\u001b[0m \u001b[1;32mNone\u001b[0m\u001b[1;33m:\u001b[0m  \u001b[1;31m# already determined that the C code is done\u001b[0m\u001b[1;33m\u001b[0m\u001b[1;33m\u001b[0m\u001b[0m\n\u001b[0;32m   1059\u001b[0m             \u001b[1;32massert\u001b[0m \u001b[0mself\u001b[0m\u001b[1;33m.\u001b[0m\u001b[0m_is_stopped\u001b[0m\u001b[1;33m\u001b[0m\u001b[1;33m\u001b[0m\u001b[0m\n\u001b[1;32m-> 1060\u001b[1;33m         \u001b[1;32melif\u001b[0m \u001b[0mlock\u001b[0m\u001b[1;33m.\u001b[0m\u001b[0macquire\u001b[0m\u001b[1;33m(\u001b[0m\u001b[0mblock\u001b[0m\u001b[1;33m,\u001b[0m \u001b[0mtimeout\u001b[0m\u001b[1;33m)\u001b[0m\u001b[1;33m:\u001b[0m\u001b[1;33m\u001b[0m\u001b[1;33m\u001b[0m\u001b[0m\n\u001b[0m\u001b[0;32m   1061\u001b[0m             \u001b[0mlock\u001b[0m\u001b[1;33m.\u001b[0m\u001b[0mrelease\u001b[0m\u001b[1;33m(\u001b[0m\u001b[1;33m)\u001b[0m\u001b[1;33m\u001b[0m\u001b[1;33m\u001b[0m\u001b[0m\n\u001b[0;32m   1062\u001b[0m             \u001b[0mself\u001b[0m\u001b[1;33m.\u001b[0m\u001b[0m_stop\u001b[0m\u001b[1;33m(\u001b[0m\u001b[1;33m)\u001b[0m\u001b[1;33m\u001b[0m\u001b[1;33m\u001b[0m\u001b[0m\n",
      "\u001b[1;31mKeyboardInterrupt\u001b[0m: "
     ]
    }
   ],
   "source": [
    "parallel_num = 1\n",
    "species_of_subject  = 1\n",
    "for j in query_v:\n",
    "    #print(j)\n",
    "    write_query(j,parallel_num)\n",
    "    blastp_score = run_blast(SELECTED_SPECIS_DIC[species_of_subject],parallel_num)"
   ]
  },
  {
   "cell_type": "markdown",
   "metadata": {},
   "source": [
    "##### write_query(j,parallel_num"
   ]
  },
  {
   "cell_type": "code",
   "execution_count": 45,
   "metadata": {},
   "outputs": [],
   "source": [
    "def write_query(query,parallel_num):\n",
    "    try:\n",
    "        with open(\"./query/query_\"+str(parallel_num),\"w\") as write_:\n",
    "            write_.write(query)\n",
    "    except IOError as err:\n",
    "        pritn(str(err))"
   ]
  },
  {
   "cell_type": "markdown",
   "metadata": {},
   "source": [
    "###### Run_Blast()"
   ]
  },
  {
   "cell_type": "code",
   "execution_count": 61,
   "metadata": {},
   "outputs": [],
   "source": [
    "def run_blast(subject, parallel_num):\n",
    "    subject = SPECIES + subject\n",
    "    cmd = [\"blastp\",\"-query\",\"./query/query_\"+str(parallel_num),\"-subject\",subject,\\\n",
    "           \"-matrix\",blast_matrix,\"-outfmt\",\"10 qseqid sseqid score length\"]\n",
    "    run_blastp = subprocess.run(cmd,capture_output = True , text = True)\n",
    "    if run_blastp.stderr:\n",
    "        print(run_blastp.stderr)\n",
    "    return run_blastp.stdout"
   ]
  },
  {
   "cell_type": "code",
   "execution_count": 64,
   "metadata": {},
   "outputs": [
    {
     "data": {
      "text/plain": [
       "'gi|170080640|ref|YP_001729960.1|,gi|15605977|ref|NP_213354.1|,155,208\\ngi|170080640|ref|YP_001729960.1|,gi|15605976|ref|NP_213353.1|,73,30\\ngi|170080640|ref|YP_001729960.1|,gi|15606101|ref|NP_213478.1|,70,24\\ngi|170080640|ref|YP_001729960.1|,gi|15606905|ref|NP_214286.1|,71,56\\ngi|170080640|ref|YP_001729960.1|,gi|15606391|ref|NP_213771.1|,68,53\\n'"
      ]
     },
     "execution_count": 64,
     "metadata": {},
     "output_type": "execute_result"
    }
   ],
   "source": [
    "run_blast(\"AAE\",1)"
   ]
  },
  {
   "cell_type": "code",
   "execution_count": 86,
   "metadata": {},
   "outputs": [],
   "source": [
    "a = query_sequence(\"AAE\")[1]\n",
    "write_query(a,1)"
   ]
  },
  {
   "cell_type": "code",
   "execution_count": 84,
   "metadata": {},
   "outputs": [
    {
     "name": "stdout",
     "output_type": "stream",
     "text": [
      "\n",
      "Command line argument error: Argument \"subject\". File is not accessible:  `gi|15605615|ref|NP_212988.1|\n",
      "MEQEKIRIKLRAYDHRLLDQSVKQIIETVKRTGGVVKGPIPLPTRKRKWCVLRSPHKFDQSREHFEIREFSRILDIIRFTPQTIEALMEISLPAGVDVEVKMRG'\n",
      "\n"
     ]
    }
   ],
   "source": [
    "parallel_num = 1\n",
    "subject = \"./species/AAE\"\n",
    "cmd = [\"blastp\",\"-query\",\"./query/query_\"+str(parallel_num),\"-subject ./species/AAE\",subject,\"-matrix\",blast_matrix,\"-outfmt\",\"10 qseqid sseqid score length\"]\n",
    "    \n",
    "print(run_blastp.stdout)\n",
    "print(run_blastp.stderr)"
   ]
  },
  {
   "cell_type": "code",
   "execution_count": 80,
   "metadata": {},
   "outputs": [
    {
     "data": {
      "text/plain": [
       "'./species/AAE'"
      ]
     },
     "execution_count": 80,
     "metadata": {},
     "output_type": "execute_result"
    }
   ],
   "source": [
    "subject"
   ]
  }
 ],
 "metadata": {
  "hide_input": false,
  "kernelspec": {
   "display_name": "Python 3",
   "language": "python",
   "name": "python3"
  },
  "language_info": {
   "codemirror_mode": {
    "name": "ipython",
    "version": 3
   },
   "file_extension": ".py",
   "mimetype": "text/x-python",
   "name": "python",
   "nbconvert_exporter": "python",
   "pygments_lexer": "ipython3",
   "version": "3.7.6"
  },
  "nbTranslate": {
   "displayLangs": [
    "*"
   ],
   "hotkey": "alt-t",
   "langInMainMenu": true,
   "sourceLang": "en",
   "targetLang": "fr",
   "useGoogleTranslate": true
  },
  "toc": {
   "base_numbering": 1,
   "nav_menu": {},
   "number_sections": true,
   "sideBar": true,
   "skip_h1_title": false,
   "title_cell": "Table of Contents",
   "title_sidebar": "Contents",
   "toc_cell": false,
   "toc_position": {},
   "toc_section_display": true,
   "toc_window_display": false
  },
  "varInspector": {
   "cols": {
    "lenName": 16,
    "lenType": 16,
    "lenVar": 40
   },
   "kernels_config": {
    "python": {
     "delete_cmd_postfix": "",
     "delete_cmd_prefix": "del ",
     "library": "var_list.py",
     "varRefreshCmd": "print(var_dic_list())"
    },
    "r": {
     "delete_cmd_postfix": ") ",
     "delete_cmd_prefix": "rm(",
     "library": "var_list.r",
     "varRefreshCmd": "cat(var_dic_list()) "
    }
   },
   "types_to_exclude": [
    "module",
    "function",
    "builtin_function_or_method",
    "instance",
    "_Feature"
   ],
   "window_display": false
  }
 },
 "nbformat": 4,
 "nbformat_minor": 4
}
