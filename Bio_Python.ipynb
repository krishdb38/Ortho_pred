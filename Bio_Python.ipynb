{
 "cells": [
  {
   "cell_type": "code",
   "execution_count": 3,
   "metadata": {},
   "outputs": [],
   "source": [
    "#!pip install Biopython"
   ]
  },
  {
   "cell_type": "code",
   "execution_count": 4,
   "metadata": {},
   "outputs": [],
   "source": [
    "from Bio.Seq import Seq\n",
    "my_seq = Seq(\"ACGTCCCGT\")"
   ]
  },
  {
   "cell_type": "code",
   "execution_count": 7,
   "metadata": {},
   "outputs": [
    {
     "data": {
      "text/plain": [
       "Seq('ACGTCCCGT')"
      ]
     },
     "execution_count": 7,
     "metadata": {},
     "output_type": "execute_result"
    }
   ],
   "source": [
    "my_seq"
   ]
  },
  {
   "cell_type": "code",
   "execution_count": 8,
   "metadata": {},
   "outputs": [
    {
     "name": "stdout",
     "output_type": "stream",
     "text": [
      "ACGTCCCGT\n"
     ]
    }
   ],
   "source": [
    "print(my_seq)"
   ]
  },
  {
   "cell_type": "code",
   "execution_count": 9,
   "metadata": {},
   "outputs": [
    {
     "data": {
      "text/plain": [
       "Seq('TGCAGGGCA')"
      ]
     },
     "execution_count": 9,
     "metadata": {},
     "output_type": "execute_result"
    }
   ],
   "source": [
    "my_seq.complement()"
   ]
  },
  {
   "cell_type": "code",
   "execution_count": 11,
   "metadata": {},
   "outputs": [
    {
     "data": {
      "text/plain": [
       "Seq('ACGGGACGT')"
      ]
     },
     "execution_count": 11,
     "metadata": {},
     "output_type": "execute_result"
    }
   ],
   "source": [
    "my_seq.reverse_complement()"
   ]
  },
  {
   "cell_type": "code",
   "execution_count": 13,
   "metadata": {},
   "outputs": [
    {
     "data": {
      "text/plain": [
       "Alphabet()"
      ]
     },
     "execution_count": 13,
     "metadata": {},
     "output_type": "execute_result"
    }
   ],
   "source": [
    "my_seq.alphabet"
   ]
  },
  {
   "cell_type": "markdown",
   "metadata": {},
   "source": [
    "### Simple FASTA  parsing example"
   ]
  },
  {
   "cell_type": "code",
   "execution_count": 39,
   "metadata": {
    "scrolled": true
   },
   "outputs": [
    {
     "name": "stdout",
     "output_type": "stream",
     "text": [
      "gi|15605613|ref|NP_212986.1|\n",
      "MAREVPIEKLRNIGIVAHIDAGKTTTTERILYYTGKTYKIGEVHEGAATMDWMPQEKERGITITVATTACYWTRNGERYQINIIDTPGHVDFSVEVVRSMKVLDGIVFIFSAVEGVQPQSEANWRWADRFQVPRIAFINKMDRLGADFYRVFKEIEEKLTIKPVAIQIPLGAEDQFEGVIDLMEMKAIRWLEETLGAKYEVVDIPPEYQEKAQEWREKMIETIVETDDELMEKYLEGQEISIDELRKALRKATIERKLVPVLCGSAFKNKGVQPLLDAVIDYLPSPIDLPPVKGTNPKTGEEEVRHPSDDEPFCAYAFKVMSDPYAGQLTYIRVFSGTLKAGSYVYNATKDEKQRAGRLLLMHANSREEIQQVSAGEICAVVGLDAATGDTLCDEKHPIILEKLEFPDPVISMAIEPKTKKDQEKLSQVLNKFMKEDPTFRATTDPETGQILIHGMGELHLEIMVDRMKREYGIEVNVGKPQVAYKETIRKKAIGEGKFIKQTGGRGQYGHAIIEIEPLPRGAGFEFIDDIHGGVIPKEFIPSVEKGVKEAMQNGILAGYPVVDVRVRLFDGSYHEVDSSDIAFQVAGSLAFKDAAKKADPVLLEPIMEVEVETPEKYVGDVIGDLNSRRGKIMGMENKGVITVIKAHVPLAEMFGYATTLRSLTQGRGTFIMKFSHYDEVPQQIAEKIIGERMAGKSS\n",
      "\n",
      "\n",
      "gi|15605614|ref|NP_212987.1|\n",
      "MAKEKFERTKEHVNVGTIGHVDHGKSTLTSAITCVLAAGLVEGGKAKCFKYEEIDKAPEEKERGITINITHVEYETAKRHYAHVDCPGHADYIKNMITGAAQMDGAILVVSAADGPMPQTREHVLLARQVNVPYIVVFMNKCDMVDDEELLELVELEVRELLSKYEYPGDEVPVIRGSALGALQELEQNSPGKWVESIKELLNAMDEYIPTPQREVDKPFLMPIEDVFSISGRGTVVTGRVERGVLRPGDEVEIVGLREEPLKTVATSIEMFRKVLDEALPGDNIGVLLRGVGKDDVERGQVLAQPGSVKAHKRFRAQVYVLSKEEGGRHTPFFVNYRPQFYFRTADVTGTVVKLPEGVEMVMPGDNVELEVELIAPVALEEGLRFAIREGGRTVGAGVVTKILD\n",
      "\n",
      "\n",
      "gi|15605615|ref|NP_212988.1|\n",
      "MEQEKIRIKLRAYDHRLLDQSVKQIIETVKRTGGVVKGPIPLPTRKRKWCVLRSPHKFDQSREHFEIREFSRILDIIRFTPQTIEALMEISLPAGVDVEVKMRG\n",
      "\n",
      "\n",
      "gi|15605616|ref|NP_212989.1|\n",
      "MPLGLIGEKVGMTRVLLKDGTAIPVTVIKFPVNYVVQVKSQNTKDGYNALQIGAYEAKEKHLTKPLIGHFKKHGVPLLRRLWEFRVDNPEEFQSGQQLKVEDVFKPGDLVDVWGISKGRGFAGAMKRWDFAGFPKSHGHRYHRAVGAIGQRTDPGRVWKGKRMPGHYGAKPVRVQGLFVVDVLPEENAILVKGSVPGHNKGIVVVEQSTIAYRKSQKLKQKRYQFIIENLAKEESQEVAES\n",
      "\n",
      "\n",
      "gi|15605617|ref|NP_212990.1|\n",
      "MKIGDVEVRDDVFNVKVKKHVLWEVVKWQLAKRRQGTHSTKTRGEVAYSGRKILPQKGTGNARHGERGVNIFVGGGVAHGPKPRDYEYPLPKRVRKLGLKMALSDKARNNAIIFVDNIDLGKKPKTKKAIEFLKNLGVEKEKVLVVIPEKADVLYKSFRNLPNVRVLLPEGLNVYDVLWANKLVIQKDCLDRIYKKVEA\n",
      "\n",
      "\n",
      "5\n"
     ]
    }
   ],
   "source": [
    "from Bio import SeqIO\n",
    "i = 0\n",
    "for seq_record in SeqIO.parse(\"species/AAE\",\"fasta\"):\n",
    "    #print(seq_record.id.split(\"|\")[1])\n",
    "    print(seq_record.id)\n",
    "    \n",
    "    #print(repr(seq_record.seq))\n",
    "    print(seq_record.seq)\n",
    "    print(\"\\n\")\n",
    "    #print(len(seq_record))\n",
    "    i +=1\n",
    "    if i ==5 :\n",
    "        break\n",
    "print(i)"
   ]
  },
  {
   "cell_type": "markdown",
   "metadata": {},
   "source": [
    "## Simple GenBank parsing example"
   ]
  },
  {
   "cell_type": "code",
   "execution_count": null,
   "metadata": {},
   "outputs": [],
   "source": []
  },
  {
   "cell_type": "markdown",
   "metadata": {},
   "source": [
    "## 2. Connecting with biological databases"
   ]
  },
  {
   "cell_type": "code",
   "execution_count": null,
   "metadata": {},
   "outputs": [],
   "source": [
    "# Chapter 9 Entrez and PubMed\n",
    "# Chapter 10 ExPASy\n"
   ]
  },
  {
   "cell_type": "markdown",
   "metadata": {},
   "source": [
    "## Chapter 3 Sequence Object"
   ]
  },
  {
   "cell_type": "code",
   "execution_count": 48,
   "metadata": {},
   "outputs": [],
   "source": [
    "from Bio import SeqIO\n",
    "i = 0\n",
    "#for seq_record in SeqIO.parse(\"species/AAE\",\"fasta\"):\n",
    "    #print(seq_record.seq.count(\"G\"))\n",
    "\n",
    "#The above Code will count certain character on the seq"
   ]
  },
  {
   "cell_type": "markdown",
   "metadata": {},
   "source": [
    "#### The GC Count is Very Important in Sequencing"
   ]
  },
  {
   "cell_type": "code",
   "execution_count": 50,
   "metadata": {},
   "outputs": [
    {
     "data": {
      "text/plain": [
       "46.875"
      ]
     },
     "execution_count": 50,
     "metadata": {},
     "output_type": "execute_result"
    }
   ],
   "source": [
    "from Bio.Seq import Seq\n",
    "from Bio.Alphabet import IUPAC\n",
    "my_seq = Seq(\"GATCGATGGGCCTATATAGGATCGAAAATCGC\", IUPAC.unambiguous_dna)\n",
    "100 *float(my_seq.count(\"G\")+my_seq.count(\"C\"))/ len(my_seq)"
   ]
  },
  {
   "cell_type": "markdown",
   "metadata": {},
   "source": [
    "#### Bio.SeqUtils module has several GC functions already built"
   ]
  },
  {
   "cell_type": "code",
   "execution_count": 2,
   "metadata": {},
   "outputs": [],
   "source": [
    "from Bio.Data import CodonTable"
   ]
  },
  {
   "cell_type": "code",
   "execution_count": 8,
   "metadata": {},
   "outputs": [
    {
     "name": "stdout",
     "output_type": "stream",
     "text": [
      "Table 1 Standard, SGC0\n",
      "\n",
      "  |  T      |  C      |  A      |  G      |\n",
      "--+---------+---------+---------+---------+--\n",
      "T | TTT F   | TCT S   | TAT Y   | TGT C   | T\n",
      "T | TTC F   | TCC S   | TAC Y   | TGC C   | C\n",
      "T | TTA L   | TCA S   | TAA Stop| TGA Stop| A\n",
      "T | TTG L(s)| TCG S   | TAG Stop| TGG W   | G\n",
      "--+---------+---------+---------+---------+--\n",
      "C | CTT L   | CCT P   | CAT H   | CGT R   | T\n",
      "C | CTC L   | CCC P   | CAC H   | CGC R   | C\n",
      "C | CTA L   | CCA P   | CAA Q   | CGA R   | A\n",
      "C | CTG L(s)| CCG P   | CAG Q   | CGG R   | G\n",
      "--+---------+---------+---------+---------+--\n",
      "A | ATT I   | ACT T   | AAT N   | AGT S   | T\n",
      "A | ATC I   | ACC T   | AAC N   | AGC S   | C\n",
      "A | ATA I   | ACA T   | AAA K   | AGA R   | A\n",
      "A | ATG M(s)| ACG T   | AAG K   | AGG R   | G\n",
      "--+---------+---------+---------+---------+--\n",
      "G | GTT V   | GCT A   | GAT D   | GGT G   | T\n",
      "G | GTC V   | GCC A   | GAC D   | GGC G   | C\n",
      "G | GTA V   | GCA A   | GAA E   | GGA G   | A\n",
      "G | GTG V   | GCG A   | GAG E   | GGG G   | G\n",
      "--+---------+---------+---------+---------+--\n"
     ]
    }
   ],
   "source": [
    "standard_table = CodonTable.unambiguous_dna_by_name[\"Standard\"]\n",
    "mito_table = CodonTable.unambiguous_dna_by_name[\"Vertebrate Mitochondrial\"]\n",
    "print(standard_table)"
   ]
  },
  {
   "cell_type": "code",
   "execution_count": 9,
   "metadata": {},
   "outputs": [
    {
     "name": "stdout",
     "output_type": "stream",
     "text": [
      "Table 2 Vertebrate Mitochondrial, SGC1\n",
      "\n",
      "  |  T      |  C      |  A      |  G      |\n",
      "--+---------+---------+---------+---------+--\n",
      "T | TTT F   | TCT S   | TAT Y   | TGT C   | T\n",
      "T | TTC F   | TCC S   | TAC Y   | TGC C   | C\n",
      "T | TTA L   | TCA S   | TAA Stop| TGA W   | A\n",
      "T | TTG L   | TCG S   | TAG Stop| TGG W   | G\n",
      "--+---------+---------+---------+---------+--\n",
      "C | CTT L   | CCT P   | CAT H   | CGT R   | T\n",
      "C | CTC L   | CCC P   | CAC H   | CGC R   | C\n",
      "C | CTA L   | CCA P   | CAA Q   | CGA R   | A\n",
      "C | CTG L   | CCG P   | CAG Q   | CGG R   | G\n",
      "--+---------+---------+---------+---------+--\n",
      "A | ATT I(s)| ACT T   | AAT N   | AGT S   | T\n",
      "A | ATC I(s)| ACC T   | AAC N   | AGC S   | C\n",
      "A | ATA M(s)| ACA T   | AAA K   | AGA Stop| A\n",
      "A | ATG M(s)| ACG T   | AAG K   | AGG Stop| G\n",
      "--+---------+---------+---------+---------+--\n",
      "G | GTT V   | GCT A   | GAT D   | GGT G   | T\n",
      "G | GTC V   | GCC A   | GAC D   | GGC G   | C\n",
      "G | GTA V   | GCA A   | GAA E   | GGA G   | A\n",
      "G | GTG V(s)| GCG A   | GAG E   | GGG G   | G\n",
      "--+---------+---------+---------+---------+--\n"
     ]
    }
   ],
   "source": [
    "print(mito_table)"
   ]
  },
  {
   "cell_type": "code",
   "execution_count": 10,
   "metadata": {},
   "outputs": [
    {
     "data": {
      "text/plain": [
       "['TAA', 'TAG', 'AGA', 'AGG']"
      ]
     },
     "execution_count": 10,
     "metadata": {},
     "output_type": "execute_result"
    }
   ],
   "source": [
    "mito_table.stop_codons"
   ]
  },
  {
   "cell_type": "code",
   "execution_count": 11,
   "metadata": {},
   "outputs": [
    {
     "data": {
      "text/plain": [
       "['ATT', 'ATC', 'ATA', 'ATG', 'GTG']"
      ]
     },
     "execution_count": 11,
     "metadata": {},
     "output_type": "execute_result"
    }
   ],
   "source": [
    "mito_table.start_codons"
   ]
  },
  {
   "cell_type": "code",
   "execution_count": 18,
   "metadata": {},
   "outputs": [
    {
     "data": {
      "text/plain": [
       "'V'"
      ]
     },
     "execution_count": 18,
     "metadata": {},
     "output_type": "execute_result"
    }
   ],
   "source": [
    "mito_table.forward_table[\"GTG\"]"
   ]
  },
  {
   "cell_type": "markdown",
   "metadata": {},
   "source": [
    "### Comparing Seq Object"
   ]
  },
  {
   "cell_type": "code",
   "execution_count": 23,
   "metadata": {},
   "outputs": [
    {
     "data": {
      "text/plain": [
       "(True, True)"
      ]
     },
     "execution_count": 23,
     "metadata": {},
     "output_type": "execute_result"
    }
   ],
   "source": [
    "# Sequence Comparison is actually a very complicated topic and there is no easy way to decide if two sequences are equal. The\n",
    "#basic problem is the meaning of the letters in a sequence are context dependent- the letter \"A\"\n",
    "from Bio.Seq import Seq\n",
    "from Bio.Alphabet import IUPAC\n",
    "seq1 = Seq(\"ACGT\",IUPAC.unambiguous_dna)\n",
    "seq2 = Seq(\"ACGT\",IUPAC.ambiguous_dna)\n",
    "seq1 == seq2, seq1 == str(seq2)"
   ]
  },
  {
   "cell_type": "code",
   "execution_count": 29,
   "metadata": {},
   "outputs": [
    {
     "data": {
      "text/plain": [
       "True"
      ]
     },
     "execution_count": 29,
     "metadata": {},
     "output_type": "execute_result"
    }
   ],
   "source": [
    "# If you Compare sequences with incompatible alphabets (e.g. DNA Vs RNA, or nucleotide versus Protein), then you will get warning\n",
    "from Bio.Seq import Seq\n",
    "from Bio.Alphabet import generic_dna, generic_protein\n",
    "\n",
    "dna_seq = Seq(\"ACGT\",generic_dna)\n",
    "prot_seq = Seq(\"ACGT\",generic_protein)\n",
    "#generic_dna\n",
    "#generic_protein\n",
    "dna_seq == prot_seq"
   ]
  },
  {
   "cell_type": "markdown",
   "metadata": {},
   "source": [
    "### MutableSeq objects"
   ]
  },
  {
   "cell_type": "code",
   "execution_count": 37,
   "metadata": {},
   "outputs": [],
   "source": [
    "from Bio.Seq import Seq\n",
    "from Bio.Alphabet import IUPAC\n",
    "my_seq = Seq(\"GCCATTGTAATGG\",IUPAC.unambiguous_dna)\n",
    "#try to change seq \n",
    "#my_seq[1]= \"G\"\n",
    "\n",
    "#How ever you can convert it into a mutable sequence  (a Mutable Seq object) and do pretty much anythingh you want\n",
    "my_seq = my_seq.tomutable()\n",
    "my_seq[1] = \"G\"\n",
    "\n",
    "#Alternatively, You can create a MutableSeq object directly from a string \n",
    "from Bio.Seq import MutableSeq\n",
    "from Bio.Alphabet  import IUPAC\n",
    "mutable_seq = MutableSeq(\"GCCATTGTAATGGGCCGCTGAAAGGGTGCCCGA\", IUPAC.unambiguous_dna)"
   ]
  },
  {
   "cell_type": "markdown",
   "metadata": {},
   "source": [
    "### Unknown Seq objects"
   ]
  },
  {
   "cell_type": "code",
   "execution_count": 41,
   "metadata": {},
   "outputs": [
    {
     "name": "stdout",
     "output_type": "stream",
     "text": [
      "????????????????????\n"
     ]
    },
    {
     "data": {
      "text/plain": [
       "(20,)"
      ]
     },
     "execution_count": 41,
     "metadata": {},
     "output_type": "execute_result"
    }
   ],
   "source": [
    "from Bio.Seq import UnknownSeq\n",
    "unk = UnknownSeq(20)\n",
    "print(unk)\n",
    "len(unk),"
   ]
  },
  {
   "cell_type": "code",
   "execution_count": 51,
   "metadata": {},
   "outputs": [
    {
     "data": {
      "text/plain": [
       "'AVK'"
      ]
     },
     "execution_count": 51,
     "metadata": {},
     "output_type": "execute_result"
    }
   ],
   "source": [
    "### Working with strings directly\n",
    "from Bio.Seq import reverse_complement, transcribe , back_transcribe, translate\n",
    "my_string= \"GCTGTTaaa\"\n",
    "translate(my_string)"
   ]
  },
  {
   "cell_type": "markdown",
   "metadata": {},
   "source": [
    "### Sequence annotation objects"
   ]
  },
  {
   "cell_type": "code",
   "execution_count": 53,
   "metadata": {},
   "outputs": [
    {
     "name": "stdout",
     "output_type": "stream",
     "text": [
      "AAE\n",
      "Bio_Python.ipynb\n",
      "HIN\n",
      "Log\n",
      "Old_Codes_Collection\n",
      "Old_file\n",
      "Ortho_all_Function.ipynb\n",
      "README.md\n",
      "Remark_Documentation.docx\n",
      "gbvrl1.seq.gz\n",
      "myva=gb\n",
      "ortho_py3_win.py\n",
      "ortho_xxx.py\n",
      "py2_lin_version\n",
      "query_1\n",
      "query_10\n",
      "query_10.csv\n",
      "query_file\n",
      "species\n",
      "test_function.py\n",
      "~$mark_Documentation.docx\n"
     ]
    }
   ],
   "source": [
    "!ls"
   ]
  },
  {
   "cell_type": "code",
   "execution_count": null,
   "metadata": {},
   "outputs": [
    {
     "name": "stderr",
     "output_type": "stream",
     "text": [
      "  % Total    % Received % Xferd  Average Speed   Time    Time     Time  Current\n",
      "                                 Dload  Upload   Total   Spent    Left  Speed\n",
      "\n",
      "  0     0    0     0    0     0      0      0 --:--:-- --:--:-- --:--:--     0\n",
      "  0     0    0     0    0     0      0      0 --:--:-- --:--:-- --:--:--     0\n",
      "  0     0    0     0    0     0      0      0 --:--:--  0:00:01 --:--:--     0\n",
      "  0     0    0     0    0     0      0      0 --:--:--  0:00:02 --:--:--     0\n",
      "  0 58.3M    0     0    0     0      0      0 --:--:--  0:00:03 --:--:--     0\n",
      "  0 58.3M    0  191k    0     0  45053      0  0:22:36  0:00:04  0:22:32 45043\n",
      "  2 58.3M    2 1390k    0     0   256k      0  0:03:52  0:00:05  0:03:47  280k\n",
      "  4 58.3M    4 2970k    0     0   470k      0  0:02:06  0:00:06  0:02:00  629k\n",
      "  9 58.3M    9 5761k    0     0   786k      0  0:01:15  0:00:07  0:01:08 1180k\n",
      " 16 58.3M   16 9611k    0     0  1156k      0  0:00:51  0:00:08  0:00:43 1999k\n",
      " 22 58.3M   22 13.1M    0     0  1446k      0  0:00:41  0:00:09  0:00:32 2679k\n",
      " 27 58.3M   27 16.0M    0     0  1593k      0  0:00:37  0:00:10  0:00:27 3071k\n",
      " 32 58.3M   32 18.9M    0     0  1716k      0  0:00:34  0:00:11  0:00:23 3286k\n",
      " 38 58.3M   38 22.5M    0     0  1870k      0  0:00:31  0:00:12  0:00:19 3456k\n",
      " 43 58.3M   43 25.4M    0     0  1955k      0  0:00:30  0:00:13  0:00:17 3282k\n",
      " 47 58.3M   47 27.7M    0     0  1980k      0  0:00:30  0:00:14  0:00:16 2966k\n",
      " 52 58.3M   52 30.3M    0     0  2025k      0  0:00:29  0:00:15  0:00:14 2916k\n",
      " 57 58.3M   57 33.2M    0     0  2086k      0  0:00:28  0:00:16  0:00:12 2924k\n",
      " 62 58.3M   62 36.5M    0     0  2160k      0  0:00:27  0:00:17  0:00:10 2878k\n",
      " 67 58.3M   67 39.0M    0     0  2185k      0  0:00:27  0:00:18  0:00:09 2796k\n",
      " 71 58.3M   71 41.4M    0     0  2198k      0  0:00:27  0:00:19  0:00:08 2828k\n",
      " 75 58.3M   75 43.9M    0     0  2214k      0  0:00:26  0:00:20  0:00:06 2797k\n",
      " 80 58.3M   80 46.6M    0     0  2241k      0  0:00:26  0:00:21  0:00:05 2744k\n",
      " 84 58.3M   84 49.4M    0     0  2268k      0  0:00:26  0:00:22  0:00:04 2639k\n",
      " 89 58.3M   89 52.1M    0     0  2290k      0  0:00:26  0:00:23  0:00:03 2675k\n",
      " 93 58.3M   93 54.7M    0     0  2307k      0  0:00:25  0:00:24  0:00:01 2731k\n",
      " 99 58.3M   99 57.8M    0     0  2340k      0  0:00:25  0:00:25 --:--:-- 2852k\n",
      "100 58.3M  100 58.3M    0     0  2329k      0  0:00:25  0:00:25 --:--:-- 2769k\n",
      "  % Total    % Received % Xferd  Average Speed   Time    Time     Time  Current\n",
      "                                 Dload  Upload   Total   Spent    Left  Speed\n",
      "\n",
      "  0     0    0     0    0     0      0      0 --:--:-- --:--:-- --:--:--     0\n",
      "  0     0    0     0    0     0      0      0 --:--:-- --:--:-- --:--:--     0\n",
      "  0     0    0     0    0     0      0      0 --:--:--  0:00:01 --:--:--     0\n",
      "  0 43.0M    0 15600    0     0   6252      0  2:00:20  0:00:02  2:00:18  6250\n",
      "  1 43.0M    1  446k    0     0   126k      0  0:05:47  0:00:03  0:05:44  126k\n",
      "  4 43.0M    4 1856k    0     0   417k      0  0:01:45  0:00:04  0:01:41  417k\n",
      "  5 43.0M    5 2559k    0     0   466k      0  0:01:34  0:00:05  0:01:29  524k\n",
      "  7 43.0M    7 3307k    0     0   505k      0  0:01:27  0:00:06  0:01:21  670k\n",
      "  9 43.0M    9 4056k    0     0   544k      0  0:01:20  0:00:07  0:01:13  815k\n",
      " 12 43.0M   12 5509k    0     0   641k      0  0:01:08  0:00:08  0:01:00  999k\n",
      " 14 43.0M   14 6566k    0     0   681k      0  0:01:04  0:00:09  0:00:55  907k\n",
      " 16 43.0M   16 7228k    0     0   690k      0  0:01:03  0:00:10  0:00:53  937k\n",
      " 18 43.0M   18 8108k    0     0   704k      0  0:01:02  0:00:11  0:00:51  965k\n",
      " 20 43.0M   20 9245k    0     0   738k      0  0:00:59  0:00:12  0:00:47 1024k\n",
      " 24 43.0M   24 10.3M    0     0   786k      0  0:00:56  0:00:13  0:00:43 1042k\n",
      " 28 43.0M   28 12.0M    0     0   850k      0  0:00:51  0:00:14  0:00:37 1181k\n",
      " 30 43.0M   30 13.1M    0     0   874k      0  0:00:50  0:00:15  0:00:35 1260k\n",
      " 33 43.0M   33 14.2M    0     0   888k      0  0:00:49  0:00:16  0:00:33 1316k\n",
      " 36 43.0M   36 15.8M    0     0   932k      0  0:00:47  0:00:17  0:00:30 1423k\n",
      " 40 43.0M   40 17.6M    0     0   978k      0  0:00:45  0:00:18  0:00:27 1495k\n",
      " 43 43.0M   43 18.7M    0     0   989k      0  0:00:44  0:00:19  0:00:25 1402k\n",
      " 46 43.0M   46 20.2M    0     0  1011k      0  0:00:43  0:00:20  0:00:23 1436k\n",
      " 49 43.0M   49 21.4M    0     0  1024k      0  0:00:43  0:00:21  0:00:22 1474k\n",
      " 52 43.0M   52 22.4M    0     0  1022k      0  0:00:43  0:00:22  0:00:21 1331k\n",
      " 54 43.0M   54 23.5M    0     0  1024k      0  0:00:43  0:00:23  0:00:20 1192k\n",
      " 57 43.0M   57 24.7M    0     0  1037k      0  0:00:42  0:00:24  0:00:18 1225k\n",
      " 60 43.0M   60 26.0M    0     0  1047k      0  0:00:42  0:00:25  0:00:17 1193k\n",
      " 63 43.0M   63 27.3M    0     0  1058k      0  0:00:41  0:00:26  0:00:15 1204k\n",
      " 66 43.0M   66 28.5M    0     0  1062k      0  0:00:41  0:00:27  0:00:14 1243k\n",
      " 69 43.0M   69 29.8M    0     0  1070k      0  0:00:41  0:00:28  0:00:13 1286k\n",
      " 72 43.0M   72 31.1M    0     0  1075k      0  0:00:41  0:00:29  0:00:12 1252k\n",
      " 74 43.0M   74 32.1M    0     0  1079k      0  0:00:40  0:00:30  0:00:10 1240k\n",
      " 77 43.0M   77 33.2M    0     0  1079k      0  0:00:40  0:00:31  0:00:09 1182k\n",
      " 79 43.0M   79 34.2M    0     0  1079k      0  0:00:40  0:00:32  0:00:08 1177k\n",
      " 82 43.0M   82 35.6M    0     0  1087k      0  0:00:40  0:00:33  0:00:07 1183k\n",
      " 85 43.0M   85 36.7M    0     0  1091k      0  0:00:40  0:00:34  0:00:06 1189k\n",
      " 88 43.0M   88 37.9M    0     0  1094k      0  0:00:40  0:00:35  0:00:05 1185k\n",
      " 90 43.0M   90 39.0M    0     0  1091k      0  0:00:40  0:00:36  0:00:04 1169k\n",
      " 92 43.0M   92 39.9M    0     0  1090k      0  0:00:40  0:00:37  0:00:03 1162k\n",
      " 95 43.0M   95 40.9M    0     0  1088k      0  0:00:40  0:00:38  0:00:02 1095k\n",
      " 96 43.0M   96 41.6M    0     0  1079k      0  0:00:40  0:00:39  0:00:01  999k\n",
      " 98 43.0M   98 42.5M    0     0  1075k      0  0:00:41  0:00:40  0:00:01  940k\n",
      "100 43.0M  100 43.0M    0     0  1074k      0  0:00:41  0:00:41 --:--:--  935k\n"
     ]
    }
   ],
   "source": [
    "#!curl -O ftp://ftp.ncbi.nih.gov/genbank/gbvrl1.seq.gz\n",
    "! curl -O ftp://ftp.ncbi.nih.gov/genbank/gbvrl2.seq.gz\n",
    "!curl -O ftp://ftp.ncbi.nih.gov/genbank/gbvrl3.seq.gz\n",
    "!curl -O ftp://ftp.ncbi.nih.gov/genbank/gbvrl4.seq.gz\n",
    "!gunzip gbvrl*.seq.gz"
   ]
  },
  {
   "cell_type": "code",
   "execution_count": null,
   "metadata": {},
   "outputs": [],
   "source": [
    "# In python, index "
   ]
  },
  {
   "cell_type": "code",
   "execution_count": null,
   "metadata": {},
   "outputs": [],
   "source": []
  },
  {
   "cell_type": "code",
   "execution_count": null,
   "metadata": {},
   "outputs": [],
   "source": []
  },
  {
   "cell_type": "code",
   "execution_count": null,
   "metadata": {},
   "outputs": [],
   "source": []
  }
 ],
 "metadata": {
  "kernelspec": {
   "display_name": "Python 3",
   "language": "python",
   "name": "python3"
  },
  "language_info": {
   "codemirror_mode": {
    "name": "ipython",
    "version": 3
   },
   "file_extension": ".py",
   "mimetype": "text/x-python",
   "name": "python",
   "nbconvert_exporter": "python",
   "pygments_lexer": "ipython3",
   "version": "3.7.4"
  }
 },
 "nbformat": 4,
 "nbformat_minor": 2
}
